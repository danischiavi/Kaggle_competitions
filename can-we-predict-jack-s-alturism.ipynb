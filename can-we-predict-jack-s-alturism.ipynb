{
 "cells": [
  {
   "cell_type": "code",
   "execution_count": 1,
   "id": "4c377d04",
   "metadata": {
    "_cell_guid": "b1076dfc-b9ad-4769-8c92-a6c4dae69d19",
    "_uuid": "8f2839f25d086af736a60e9eeb907d3b93b6e0e5",
    "execution": {
     "iopub.execute_input": "2022-11-24T03:08:17.746461Z",
     "iopub.status.busy": "2022-11-24T03:08:17.745913Z",
     "iopub.status.idle": "2022-11-24T03:08:18.808797Z",
     "shell.execute_reply": "2022-11-24T03:08:18.807333Z"
    },
    "papermill": {
     "duration": 1.074583,
     "end_time": "2022-11-24T03:08:18.812096",
     "exception": false,
     "start_time": "2022-11-24T03:08:17.737513",
     "status": "completed"
    },
    "tags": []
   },
   "outputs": [
    {
     "name": "stdout",
     "output_type": "stream",
     "text": [
      "/kaggle/input/titanic/train.csv\n",
      "/kaggle/input/titanic/test.csv\n",
      "/kaggle/input/titanic/gender_submission.csv\n"
     ]
    }
   ],
   "source": [
    "import numpy as np # linear algebra\n",
    "import pandas as pd # data processing, CSV file I/O (e.g. pd.read_csv)\n",
    "pd.plotting.register_matplotlib_converters()\n",
    "import matplotlib.pyplot as plt\n",
    "%matplotlib inline \n",
    "import seaborn as sns #library for visualization\n",
    "\n",
    "import os\n",
    "for dirname, _, filenames in os.walk('/kaggle/input'):\n",
    "    for filename in filenames:\n",
    "        print(os.path.join(dirname, filename))"
   ]
  },
  {
   "cell_type": "code",
   "execution_count": 2,
   "id": "176e121d",
   "metadata": {
    "execution": {
     "iopub.execute_input": "2022-11-24T03:08:18.826479Z",
     "iopub.status.busy": "2022-11-24T03:08:18.826164Z",
     "iopub.status.idle": "2022-11-24T03:08:18.868675Z",
     "shell.execute_reply": "2022-11-24T03:08:18.867550Z"
    },
    "papermill": {
     "duration": 0.051903,
     "end_time": "2022-11-24T03:08:18.870947",
     "exception": false,
     "start_time": "2022-11-24T03:08:18.819044",
     "status": "completed"
    },
    "tags": []
   },
   "outputs": [
    {
     "data": {
      "text/html": [
       "<div>\n",
       "<style scoped>\n",
       "    .dataframe tbody tr th:only-of-type {\n",
       "        vertical-align: middle;\n",
       "    }\n",
       "\n",
       "    .dataframe tbody tr th {\n",
       "        vertical-align: top;\n",
       "    }\n",
       "\n",
       "    .dataframe thead th {\n",
       "        text-align: right;\n",
       "    }\n",
       "</style>\n",
       "<table border=\"1\" class=\"dataframe\">\n",
       "  <thead>\n",
       "    <tr style=\"text-align: right;\">\n",
       "      <th></th>\n",
       "      <th>PassengerId</th>\n",
       "      <th>Survived</th>\n",
       "      <th>Pclass</th>\n",
       "      <th>Name</th>\n",
       "      <th>Sex</th>\n",
       "      <th>Age</th>\n",
       "      <th>SibSp</th>\n",
       "      <th>Parch</th>\n",
       "      <th>Ticket</th>\n",
       "      <th>Fare</th>\n",
       "      <th>Cabin</th>\n",
       "      <th>Embarked</th>\n",
       "    </tr>\n",
       "  </thead>\n",
       "  <tbody>\n",
       "    <tr>\n",
       "      <th>0</th>\n",
       "      <td>1</td>\n",
       "      <td>0</td>\n",
       "      <td>3</td>\n",
       "      <td>Braund, Mr. Owen Harris</td>\n",
       "      <td>male</td>\n",
       "      <td>22.0</td>\n",
       "      <td>1</td>\n",
       "      <td>0</td>\n",
       "      <td>A/5 21171</td>\n",
       "      <td>7.2500</td>\n",
       "      <td>NaN</td>\n",
       "      <td>S</td>\n",
       "    </tr>\n",
       "    <tr>\n",
       "      <th>1</th>\n",
       "      <td>2</td>\n",
       "      <td>1</td>\n",
       "      <td>1</td>\n",
       "      <td>Cumings, Mrs. John Bradley (Florence Briggs Th...</td>\n",
       "      <td>female</td>\n",
       "      <td>38.0</td>\n",
       "      <td>1</td>\n",
       "      <td>0</td>\n",
       "      <td>PC 17599</td>\n",
       "      <td>71.2833</td>\n",
       "      <td>C85</td>\n",
       "      <td>C</td>\n",
       "    </tr>\n",
       "    <tr>\n",
       "      <th>2</th>\n",
       "      <td>3</td>\n",
       "      <td>1</td>\n",
       "      <td>3</td>\n",
       "      <td>Heikkinen, Miss. Laina</td>\n",
       "      <td>female</td>\n",
       "      <td>26.0</td>\n",
       "      <td>0</td>\n",
       "      <td>0</td>\n",
       "      <td>STON/O2. 3101282</td>\n",
       "      <td>7.9250</td>\n",
       "      <td>NaN</td>\n",
       "      <td>S</td>\n",
       "    </tr>\n",
       "    <tr>\n",
       "      <th>3</th>\n",
       "      <td>4</td>\n",
       "      <td>1</td>\n",
       "      <td>1</td>\n",
       "      <td>Futrelle, Mrs. Jacques Heath (Lily May Peel)</td>\n",
       "      <td>female</td>\n",
       "      <td>35.0</td>\n",
       "      <td>1</td>\n",
       "      <td>0</td>\n",
       "      <td>113803</td>\n",
       "      <td>53.1000</td>\n",
       "      <td>C123</td>\n",
       "      <td>S</td>\n",
       "    </tr>\n",
       "    <tr>\n",
       "      <th>4</th>\n",
       "      <td>5</td>\n",
       "      <td>0</td>\n",
       "      <td>3</td>\n",
       "      <td>Allen, Mr. William Henry</td>\n",
       "      <td>male</td>\n",
       "      <td>35.0</td>\n",
       "      <td>0</td>\n",
       "      <td>0</td>\n",
       "      <td>373450</td>\n",
       "      <td>8.0500</td>\n",
       "      <td>NaN</td>\n",
       "      <td>S</td>\n",
       "    </tr>\n",
       "  </tbody>\n",
       "</table>\n",
       "</div>"
      ],
      "text/plain": [
       "   PassengerId  Survived  Pclass  \\\n",
       "0            1         0       3   \n",
       "1            2         1       1   \n",
       "2            3         1       3   \n",
       "3            4         1       1   \n",
       "4            5         0       3   \n",
       "\n",
       "                                                Name     Sex   Age  SibSp  \\\n",
       "0                            Braund, Mr. Owen Harris    male  22.0      1   \n",
       "1  Cumings, Mrs. John Bradley (Florence Briggs Th...  female  38.0      1   \n",
       "2                             Heikkinen, Miss. Laina  female  26.0      0   \n",
       "3       Futrelle, Mrs. Jacques Heath (Lily May Peel)  female  35.0      1   \n",
       "4                           Allen, Mr. William Henry    male  35.0      0   \n",
       "\n",
       "   Parch            Ticket     Fare Cabin Embarked  \n",
       "0      0         A/5 21171   7.2500   NaN        S  \n",
       "1      0          PC 17599  71.2833   C85        C  \n",
       "2      0  STON/O2. 3101282   7.9250   NaN        S  \n",
       "3      0            113803  53.1000  C123        S  \n",
       "4      0            373450   8.0500   NaN        S  "
      ]
     },
     "execution_count": 2,
     "metadata": {},
     "output_type": "execute_result"
    }
   ],
   "source": [
    "full_data = pd.read_csv(\"/kaggle/input/titanic/train.csv\") #Load training data\n",
    "full_data.head() \n"
   ]
  },
  {
   "cell_type": "code",
   "execution_count": 3,
   "id": "3ba4b7b3",
   "metadata": {
    "execution": {
     "iopub.execute_input": "2022-11-24T03:08:18.884354Z",
     "iopub.status.busy": "2022-11-24T03:08:18.883896Z",
     "iopub.status.idle": "2022-11-24T03:08:18.904258Z",
     "shell.execute_reply": "2022-11-24T03:08:18.903159Z"
    },
    "papermill": {
     "duration": 0.029494,
     "end_time": "2022-11-24T03:08:18.906482",
     "exception": false,
     "start_time": "2022-11-24T03:08:18.876988",
     "status": "completed"
    },
    "tags": []
   },
   "outputs": [
    {
     "data": {
      "text/html": [
       "<div>\n",
       "<style scoped>\n",
       "    .dataframe tbody tr th:only-of-type {\n",
       "        vertical-align: middle;\n",
       "    }\n",
       "\n",
       "    .dataframe tbody tr th {\n",
       "        vertical-align: top;\n",
       "    }\n",
       "\n",
       "    .dataframe thead th {\n",
       "        text-align: right;\n",
       "    }\n",
       "</style>\n",
       "<table border=\"1\" class=\"dataframe\">\n",
       "  <thead>\n",
       "    <tr style=\"text-align: right;\">\n",
       "      <th></th>\n",
       "      <th>PassengerId</th>\n",
       "      <th>Pclass</th>\n",
       "      <th>Name</th>\n",
       "      <th>Sex</th>\n",
       "      <th>Age</th>\n",
       "      <th>SibSp</th>\n",
       "      <th>Parch</th>\n",
       "      <th>Ticket</th>\n",
       "      <th>Fare</th>\n",
       "      <th>Cabin</th>\n",
       "      <th>Embarked</th>\n",
       "    </tr>\n",
       "  </thead>\n",
       "  <tbody>\n",
       "    <tr>\n",
       "      <th>0</th>\n",
       "      <td>892</td>\n",
       "      <td>3</td>\n",
       "      <td>Kelly, Mr. James</td>\n",
       "      <td>male</td>\n",
       "      <td>34.5</td>\n",
       "      <td>0</td>\n",
       "      <td>0</td>\n",
       "      <td>330911</td>\n",
       "      <td>7.8292</td>\n",
       "      <td>NaN</td>\n",
       "      <td>Q</td>\n",
       "    </tr>\n",
       "    <tr>\n",
       "      <th>1</th>\n",
       "      <td>893</td>\n",
       "      <td>3</td>\n",
       "      <td>Wilkes, Mrs. James (Ellen Needs)</td>\n",
       "      <td>female</td>\n",
       "      <td>47.0</td>\n",
       "      <td>1</td>\n",
       "      <td>0</td>\n",
       "      <td>363272</td>\n",
       "      <td>7.0000</td>\n",
       "      <td>NaN</td>\n",
       "      <td>S</td>\n",
       "    </tr>\n",
       "    <tr>\n",
       "      <th>2</th>\n",
       "      <td>894</td>\n",
       "      <td>2</td>\n",
       "      <td>Myles, Mr. Thomas Francis</td>\n",
       "      <td>male</td>\n",
       "      <td>62.0</td>\n",
       "      <td>0</td>\n",
       "      <td>0</td>\n",
       "      <td>240276</td>\n",
       "      <td>9.6875</td>\n",
       "      <td>NaN</td>\n",
       "      <td>Q</td>\n",
       "    </tr>\n",
       "    <tr>\n",
       "      <th>3</th>\n",
       "      <td>895</td>\n",
       "      <td>3</td>\n",
       "      <td>Wirz, Mr. Albert</td>\n",
       "      <td>male</td>\n",
       "      <td>27.0</td>\n",
       "      <td>0</td>\n",
       "      <td>0</td>\n",
       "      <td>315154</td>\n",
       "      <td>8.6625</td>\n",
       "      <td>NaN</td>\n",
       "      <td>S</td>\n",
       "    </tr>\n",
       "    <tr>\n",
       "      <th>4</th>\n",
       "      <td>896</td>\n",
       "      <td>3</td>\n",
       "      <td>Hirvonen, Mrs. Alexander (Helga E Lindqvist)</td>\n",
       "      <td>female</td>\n",
       "      <td>22.0</td>\n",
       "      <td>1</td>\n",
       "      <td>1</td>\n",
       "      <td>3101298</td>\n",
       "      <td>12.2875</td>\n",
       "      <td>NaN</td>\n",
       "      <td>S</td>\n",
       "    </tr>\n",
       "  </tbody>\n",
       "</table>\n",
       "</div>"
      ],
      "text/plain": [
       "   PassengerId  Pclass                                          Name     Sex  \\\n",
       "0          892       3                              Kelly, Mr. James    male   \n",
       "1          893       3              Wilkes, Mrs. James (Ellen Needs)  female   \n",
       "2          894       2                     Myles, Mr. Thomas Francis    male   \n",
       "3          895       3                              Wirz, Mr. Albert    male   \n",
       "4          896       3  Hirvonen, Mrs. Alexander (Helga E Lindqvist)  female   \n",
       "\n",
       "    Age  SibSp  Parch   Ticket     Fare Cabin Embarked  \n",
       "0  34.5      0      0   330911   7.8292   NaN        Q  \n",
       "1  47.0      1      0   363272   7.0000   NaN        S  \n",
       "2  62.0      0      0   240276   9.6875   NaN        Q  \n",
       "3  27.0      0      0   315154   8.6625   NaN        S  \n",
       "4  22.0      1      1  3101298  12.2875   NaN        S  "
      ]
     },
     "execution_count": 3,
     "metadata": {},
     "output_type": "execute_result"
    }
   ],
   "source": [
    "prediction_data = pd.read_csv(\"/kaggle/input/titanic/test.csv\")  #Load test data -> Survived column is missing because is what I have to predict\n",
    "prediction_data.head()"
   ]
  },
  {
   "cell_type": "code",
   "execution_count": 4,
   "id": "ada0fe7e",
   "metadata": {
    "execution": {
     "iopub.execute_input": "2022-11-24T03:08:18.921231Z",
     "iopub.status.busy": "2022-11-24T03:08:18.919945Z",
     "iopub.status.idle": "2022-11-24T03:08:18.958098Z",
     "shell.execute_reply": "2022-11-24T03:08:18.957116Z"
    },
    "papermill": {
     "duration": 0.047542,
     "end_time": "2022-11-24T03:08:18.960379",
     "exception": false,
     "start_time": "2022-11-24T03:08:18.912837",
     "status": "completed"
    },
    "tags": []
   },
   "outputs": [
    {
     "data": {
      "text/html": [
       "<div>\n",
       "<style scoped>\n",
       "    .dataframe tbody tr th:only-of-type {\n",
       "        vertical-align: middle;\n",
       "    }\n",
       "\n",
       "    .dataframe tbody tr th {\n",
       "        vertical-align: top;\n",
       "    }\n",
       "\n",
       "    .dataframe thead th {\n",
       "        text-align: right;\n",
       "    }\n",
       "</style>\n",
       "<table border=\"1\" class=\"dataframe\">\n",
       "  <thead>\n",
       "    <tr style=\"text-align: right;\">\n",
       "      <th></th>\n",
       "      <th>PassengerId</th>\n",
       "      <th>Survived</th>\n",
       "      <th>Pclass</th>\n",
       "      <th>Age</th>\n",
       "      <th>SibSp</th>\n",
       "      <th>Parch</th>\n",
       "      <th>Fare</th>\n",
       "    </tr>\n",
       "  </thead>\n",
       "  <tbody>\n",
       "    <tr>\n",
       "      <th>count</th>\n",
       "      <td>891.000000</td>\n",
       "      <td>891.000000</td>\n",
       "      <td>891.000000</td>\n",
       "      <td>714.000000</td>\n",
       "      <td>891.000000</td>\n",
       "      <td>891.000000</td>\n",
       "      <td>891.000000</td>\n",
       "    </tr>\n",
       "    <tr>\n",
       "      <th>mean</th>\n",
       "      <td>446.000000</td>\n",
       "      <td>0.383838</td>\n",
       "      <td>2.308642</td>\n",
       "      <td>29.699118</td>\n",
       "      <td>0.523008</td>\n",
       "      <td>0.381594</td>\n",
       "      <td>32.204208</td>\n",
       "    </tr>\n",
       "    <tr>\n",
       "      <th>std</th>\n",
       "      <td>257.353842</td>\n",
       "      <td>0.486592</td>\n",
       "      <td>0.836071</td>\n",
       "      <td>14.526497</td>\n",
       "      <td>1.102743</td>\n",
       "      <td>0.806057</td>\n",
       "      <td>49.693429</td>\n",
       "    </tr>\n",
       "    <tr>\n",
       "      <th>min</th>\n",
       "      <td>1.000000</td>\n",
       "      <td>0.000000</td>\n",
       "      <td>1.000000</td>\n",
       "      <td>0.420000</td>\n",
       "      <td>0.000000</td>\n",
       "      <td>0.000000</td>\n",
       "      <td>0.000000</td>\n",
       "    </tr>\n",
       "    <tr>\n",
       "      <th>25%</th>\n",
       "      <td>223.500000</td>\n",
       "      <td>0.000000</td>\n",
       "      <td>2.000000</td>\n",
       "      <td>20.125000</td>\n",
       "      <td>0.000000</td>\n",
       "      <td>0.000000</td>\n",
       "      <td>7.910400</td>\n",
       "    </tr>\n",
       "    <tr>\n",
       "      <th>50%</th>\n",
       "      <td>446.000000</td>\n",
       "      <td>0.000000</td>\n",
       "      <td>3.000000</td>\n",
       "      <td>28.000000</td>\n",
       "      <td>0.000000</td>\n",
       "      <td>0.000000</td>\n",
       "      <td>14.454200</td>\n",
       "    </tr>\n",
       "    <tr>\n",
       "      <th>75%</th>\n",
       "      <td>668.500000</td>\n",
       "      <td>1.000000</td>\n",
       "      <td>3.000000</td>\n",
       "      <td>38.000000</td>\n",
       "      <td>1.000000</td>\n",
       "      <td>0.000000</td>\n",
       "      <td>31.000000</td>\n",
       "    </tr>\n",
       "    <tr>\n",
       "      <th>max</th>\n",
       "      <td>891.000000</td>\n",
       "      <td>1.000000</td>\n",
       "      <td>3.000000</td>\n",
       "      <td>80.000000</td>\n",
       "      <td>8.000000</td>\n",
       "      <td>6.000000</td>\n",
       "      <td>512.329200</td>\n",
       "    </tr>\n",
       "  </tbody>\n",
       "</table>\n",
       "</div>"
      ],
      "text/plain": [
       "       PassengerId    Survived      Pclass         Age       SibSp  \\\n",
       "count   891.000000  891.000000  891.000000  714.000000  891.000000   \n",
       "mean    446.000000    0.383838    2.308642   29.699118    0.523008   \n",
       "std     257.353842    0.486592    0.836071   14.526497    1.102743   \n",
       "min       1.000000    0.000000    1.000000    0.420000    0.000000   \n",
       "25%     223.500000    0.000000    2.000000   20.125000    0.000000   \n",
       "50%     446.000000    0.000000    3.000000   28.000000    0.000000   \n",
       "75%     668.500000    1.000000    3.000000   38.000000    1.000000   \n",
       "max     891.000000    1.000000    3.000000   80.000000    8.000000   \n",
       "\n",
       "            Parch        Fare  \n",
       "count  891.000000  891.000000  \n",
       "mean     0.381594   32.204208  \n",
       "std      0.806057   49.693429  \n",
       "min      0.000000    0.000000  \n",
       "25%      0.000000    7.910400  \n",
       "50%      0.000000   14.454200  \n",
       "75%      0.000000   31.000000  \n",
       "max      6.000000  512.329200  "
      ]
     },
     "execution_count": 4,
     "metadata": {},
     "output_type": "execute_result"
    }
   ],
   "source": [
    "full_data.describe()"
   ]
  },
  {
   "cell_type": "code",
   "execution_count": 5,
   "id": "97a51912",
   "metadata": {
    "execution": {
     "iopub.execute_input": "2022-11-24T03:08:18.973659Z",
     "iopub.status.busy": "2022-11-24T03:08:18.973315Z",
     "iopub.status.idle": "2022-11-24T03:08:19.221515Z",
     "shell.execute_reply": "2022-11-24T03:08:19.220789Z"
    },
    "papermill": {
     "duration": 0.257176,
     "end_time": "2022-11-24T03:08:19.223566",
     "exception": false,
     "start_time": "2022-11-24T03:08:18.966390",
     "status": "completed"
    },
    "tags": []
   },
   "outputs": [
    {
     "data": {
      "text/plain": [
       "<AxesSubplot:xlabel='Pclass', ylabel='Survived'>"
      ]
     },
     "execution_count": 5,
     "metadata": {},
     "output_type": "execute_result"
    },
    {
     "data": {
      "image/png": "[encoded data removed]",
      "text/plain": [
       "<Figure size 432x288 with 1 Axes>"
      ]
     },
     "metadata": {
      "needs_background": "light"
     },
     "output_type": "display_data"
    }
   ],
   "source": [
    "#Data analisis with visualization\n",
    "\n",
    "sns.barplot(x=full_data['Pclass'], y=full_data['Survived'])"
   ]
  },
  {
   "cell_type": "markdown",
   "id": "239ecada",
   "metadata": {
    "papermill": {
     "duration": 0.00645,
     "end_time": "2022-11-24T03:08:19.237715",
     "exception": false,
     "start_time": "2022-11-24T03:08:19.231265",
     "status": "completed"
    },
    "tags": []
   },
   "source": [
    "Graph shows marked relationship between Pclass and survival rate: Higher class, more chances to survive --> Good feature for model"
   ]
  },
  {
   "cell_type": "code",
   "execution_count": 6,
   "id": "ae9b40fb",
   "metadata": {
    "execution": {
     "iopub.execute_input": "2022-11-24T03:08:19.253932Z",
     "iopub.status.busy": "2022-11-24T03:08:19.253449Z",
     "iopub.status.idle": "2022-11-24T03:08:19.428821Z",
     "shell.execute_reply": "2022-11-24T03:08:19.428069Z"
    },
    "papermill": {
     "duration": 0.186403,
     "end_time": "2022-11-24T03:08:19.430754",
     "exception": false,
     "start_time": "2022-11-24T03:08:19.244351",
     "status": "completed"
    },
    "tags": []
   },
   "outputs": [
    {
     "data": {
      "text/plain": [
       "<AxesSubplot:xlabel='Sex', ylabel='Survived'>"
      ]
     },
     "execution_count": 6,
     "metadata": {},
     "output_type": "execute_result"
    },
    {
     "data": {
      "image/png": "[encoded data removed]",
      "text/plain": [
       "<Figure size 432x288 with 1 Axes>"
      ]
     },
     "metadata": {
      "needs_background": "light"
     },
     "output_type": "display_data"
    }
   ],
   "source": [
    "sns.barplot(x=full_data['Sex'], y=full_data['Survived'])"
   ]
  },
  {
   "cell_type": "markdown",
   "id": "14465266",
   "metadata": {
    "papermill": {
     "duration": 0.008511,
     "end_time": "2022-11-24T03:08:19.447974",
     "exception": false,
     "start_time": "2022-11-24T03:08:19.439463",
     "status": "completed"
    },
    "tags": []
   },
   "source": [
    "Graph shows marked relationship between Pclass and survival rate: females have more chances to survive --> Good feature for model"
   ]
  },
  {
   "cell_type": "code",
   "execution_count": 7,
   "id": "d084a6e3",
   "metadata": {
    "execution": {
     "iopub.execute_input": "2022-11-24T03:08:19.463065Z",
     "iopub.status.busy": "2022-11-24T03:08:19.462747Z",
     "iopub.status.idle": "2022-11-24T03:08:19.659402Z",
     "shell.execute_reply": "2022-11-24T03:08:19.658476Z"
    },
    "papermill": {
     "duration": 0.206916,
     "end_time": "2022-11-24T03:08:19.661645",
     "exception": false,
     "start_time": "2022-11-24T03:08:19.454729",
     "status": "completed"
    },
    "tags": []
   },
   "outputs": [
    {
     "data": {
      "text/plain": [
       "<AxesSubplot:xlabel='Age', ylabel='Count'>"
      ]
     },
     "execution_count": 7,
     "metadata": {},
     "output_type": "execute_result"
    },
    {
     "data": {
      "image/png": "[encoded data removed]",
      "text/plain": [
       "<Figure size 432x288 with 1 Axes>"
      ]
     },
     "metadata": {
      "needs_background": "light"
     },
     "output_type": "display_data"
    }
   ],
   "source": [
    "sns.histplot(data=full_data, x='Age')"
   ]
  },
  {
   "cell_type": "code",
   "execution_count": 8,
   "id": "967b5b07",
   "metadata": {
    "execution": {
     "iopub.execute_input": "2022-11-24T03:08:19.677673Z",
     "iopub.status.busy": "2022-11-24T03:08:19.677306Z",
     "iopub.status.idle": "2022-11-24T03:08:19.983006Z",
     "shell.execute_reply": "2022-11-24T03:08:19.981702Z"
    },
    "papermill": {
     "duration": 0.316878,
     "end_time": "2022-11-24T03:08:19.985559",
     "exception": false,
     "start_time": "2022-11-24T03:08:19.668681",
     "status": "completed"
    },
    "tags": []
   },
   "outputs": [
    {
     "data": {
      "text/plain": [
       "<AxesSubplot:xlabel='Age', ylabel='Count'>"
      ]
     },
     "execution_count": 8,
     "metadata": {},
     "output_type": "execute_result"
    },
    {
     "data": {
      "image/png": "[encoded data removed]",
      "text/plain": [
       "<Figure size 432x288 with 1 Axes>"
      ]
     },
     "metadata": {
      "needs_background": "light"
     },
     "output_type": "display_data"
    }
   ],
   "source": [
    "sns.histplot(data=full_data, x='Age', hue='Survived')"
   ]
  },
  {
   "cell_type": "markdown",
   "id": "4cdbfa01",
   "metadata": {
    "papermill": {
     "duration": 0.006839,
     "end_time": "2022-11-24T03:08:20.001969",
     "exception": false,
     "start_time": "2022-11-24T03:08:19.995130",
     "status": "completed"
    },
    "tags": []
   },
   "source": [
    "Graph shows distribution of age for survived and not-survived group. Survived group has more counts for children than not-survived. -->Good feature for model"
   ]
  },
  {
   "cell_type": "code",
   "execution_count": 9,
   "id": "f383e043",
   "metadata": {
    "execution": {
     "iopub.execute_input": "2022-11-24T03:08:20.023007Z",
     "iopub.status.busy": "2022-11-24T03:08:20.022697Z",
     "iopub.status.idle": "2022-11-24T03:08:20.336926Z",
     "shell.execute_reply": "2022-11-24T03:08:20.336152Z"
    },
    "papermill": {
     "duration": 0.326377,
     "end_time": "2022-11-24T03:08:20.338911",
     "exception": false,
     "start_time": "2022-11-24T03:08:20.012534",
     "status": "completed"
    },
    "tags": []
   },
   "outputs": [
    {
     "data": {
      "text/plain": [
       "<AxesSubplot:xlabel='SibSp', ylabel='Survived'>"
      ]
     },
     "execution_count": 9,
     "metadata": {},
     "output_type": "execute_result"
    },
    {
     "data": {
      "image/png": "[encoded data removed]",
      "text/plain": [
       "<Figure size 432x288 with 1 Axes>"
      ]
     },
     "metadata": {
      "needs_background": "light"
     },
     "output_type": "display_data"
    }
   ],
   "source": [
    "sns.barplot(x=full_data['SibSp'], y=full_data['Survived'])\n"
   ]
  },
  {
   "cell_type": "markdown",
   "id": "c116fe4e",
   "metadata": {
    "papermill": {
     "duration": 0.007367,
     "end_time": "2022-11-24T03:08:20.354154",
     "exception": false,
     "start_time": "2022-11-24T03:08:20.346787",
     "status": "completed"
    },
    "tags": []
   },
   "source": [
    "Graph shows relationship between survival rate and number of siblings or spouse: more likely to survive if 1, decreasing with number -->Good feature for model "
   ]
  },
  {
   "cell_type": "code",
   "execution_count": 10,
   "id": "fba46284",
   "metadata": {
    "execution": {
     "iopub.execute_input": "2022-11-24T03:08:20.371268Z",
     "iopub.status.busy": "2022-11-24T03:08:20.370735Z",
     "iopub.status.idle": "2022-11-24T03:08:20.640077Z",
     "shell.execute_reply": "2022-11-24T03:08:20.638961Z"
    },
    "papermill": {
     "duration": 0.280068,
     "end_time": "2022-11-24T03:08:20.641878",
     "exception": false,
     "start_time": "2022-11-24T03:08:20.361810",
     "status": "completed"
    },
    "tags": []
   },
   "outputs": [
    {
     "data": {
      "text/plain": [
       "<AxesSubplot:xlabel='Parch', ylabel='Survived'>"
      ]
     },
     "execution_count": 10,
     "metadata": {},
     "output_type": "execute_result"
    },
    {
     "data": {
      "image/png": "[encoded data removed]",
      "text/plain": [
       "<Figure size 432x288 with 1 Axes>"
      ]
     },
     "metadata": {
      "needs_background": "light"
     },
     "output_type": "display_data"
    }
   ],
   "source": [
    "sns.barplot(x=full_data['Parch'], y=full_data['Survived'])"
   ]
  },
  {
   "cell_type": "markdown",
   "id": "752e6127",
   "metadata": {
    "papermill": {
     "duration": 0.00813,
     "end_time": "2022-11-24T03:08:20.657614",
     "exception": false,
     "start_time": "2022-11-24T03:08:20.649484",
     "status": "completed"
    },
    "tags": []
   },
   "source": [
    "Graph shows relationship between suvival rate and number of parents/children. It does not have a strong relationship --> Feature not good for model. "
   ]
  },
  {
   "cell_type": "code",
   "execution_count": 11,
   "id": "78d139d4",
   "metadata": {
    "execution": {
     "iopub.execute_input": "2022-11-24T03:08:20.675264Z",
     "iopub.status.busy": "2022-11-24T03:08:20.674344Z",
     "iopub.status.idle": "2022-11-24T03:08:25.274282Z",
     "shell.execute_reply": "2022-11-24T03:08:25.273115Z"
    },
    "papermill": {
     "duration": 4.611448,
     "end_time": "2022-11-24T03:08:25.276957",
     "exception": false,
     "start_time": "2022-11-24T03:08:20.665509",
     "status": "completed"
    },
    "tags": []
   },
   "outputs": [
    {
     "name": "stderr",
     "output_type": "stream",
     "text": [
      "/opt/conda/lib/python3.7/site-packages/seaborn/categorical.py:1296: UserWarning: 72.3% of the points cannot be placed; you may want to decrease the size of the markers or use stripplot.\n",
      "  warnings.warn(msg, UserWarning)\n",
      "/opt/conda/lib/python3.7/site-packages/seaborn/categorical.py:1296: UserWarning: 46.5% of the points cannot be placed; you may want to decrease the size of the markers or use stripplot.\n",
      "  warnings.warn(msg, UserWarning)\n"
     ]
    },
    {
     "data": {
      "text/plain": [
       "<AxesSubplot:xlabel='Survived', ylabel='Fare'>"
      ]
     },
     "execution_count": 11,
     "metadata": {},
     "output_type": "execute_result"
    },
    {
     "data": {
      "image/png": "[encoded data removed]",
      "text/plain": [
       "<Figure size 432x288 with 1 Axes>"
      ]
     },
     "metadata": {
      "needs_background": "light"
     },
     "output_type": "display_data"
    }
   ],
   "source": [
    "sns.swarmplot(x=full_data['Survived'], y=full_data['Fare'])"
   ]
  },
  {
   "cell_type": "markdown",
   "id": "b47e6619",
   "metadata": {
    "papermill": {
     "duration": 0.010446,
     "end_time": "2022-11-24T03:08:25.298840",
     "exception": false,
     "start_time": "2022-11-24T03:08:25.288394",
     "status": "completed"
    },
    "tags": []
   },
   "source": [
    "There isn't evident relationship between fare and survived --> Feature not good for model "
   ]
  },
  {
   "cell_type": "code",
   "execution_count": 12,
   "id": "cd486429",
   "metadata": {
    "execution": {
     "iopub.execute_input": "2022-11-24T03:08:25.316515Z",
     "iopub.status.busy": "2022-11-24T03:08:25.316218Z",
     "iopub.status.idle": "2022-11-24T03:08:25.519087Z",
     "shell.execute_reply": "2022-11-24T03:08:25.518100Z"
    },
    "papermill": {
     "duration": 0.214638,
     "end_time": "2022-11-24T03:08:25.521689",
     "exception": false,
     "start_time": "2022-11-24T03:08:25.307051",
     "status": "completed"
    },
    "tags": []
   },
   "outputs": [
    {
     "data": {
      "text/plain": [
       "<AxesSubplot:xlabel='Embarked', ylabel='Survived'>"
      ]
     },
     "execution_count": 12,
     "metadata": {},
     "output_type": "execute_result"
    },
    {
     "data": {
      "image/png": "[encoded data removed]",
      "text/plain": [
       "<Figure size 432x288 with 1 Axes>"
      ]
     },
     "metadata": {
      "needs_background": "light"
     },
     "output_type": "display_data"
    }
   ],
   "source": [
    "sns.barplot(x=full_data['Embarked'], y=full_data['Survived'])"
   ]
  },
  {
   "cell_type": "markdown",
   "id": "da7be1f8",
   "metadata": {
    "papermill": {
     "duration": 0.010987,
     "end_time": "2022-11-24T03:08:25.545161",
     "exception": false,
     "start_time": "2022-11-24T03:08:25.534174",
     "status": "completed"
    },
    "tags": []
   },
   "source": [
    "Relationship between survival and port of embarcation is similar between the 3 of them --> Feature not good for model."
   ]
  },
  {
   "cell_type": "code",
   "execution_count": 13,
   "id": "67c2d959",
   "metadata": {
    "execution": {
     "iopub.execute_input": "2022-11-24T03:08:25.564480Z",
     "iopub.status.busy": "2022-11-24T03:08:25.563615Z",
     "iopub.status.idle": "2022-11-24T03:08:25.965195Z",
     "shell.execute_reply": "2022-11-24T03:08:25.964099Z"
    },
    "papermill": {
     "duration": 0.413939,
     "end_time": "2022-11-24T03:08:25.967765",
     "exception": false,
     "start_time": "2022-11-24T03:08:25.553826",
     "status": "completed"
    },
    "tags": []
   },
   "outputs": [],
   "source": [
    "from sklearn.ensemble import RandomForestClassifier  #sklearn.ensemble is a module which contains the class RandomForestClassifier is\n",
    "from sklearn.impute import SimpleImputer\n",
    "\n",
    "y = full_data[\"Survived\"]\n",
    "\n",
    "features = [\"Pclass\", \"Sex\", \"Age\", \"SibSp\"]\n",
    "X_missing_values = pd.get_dummies(full_data[features])  #converts categorical variable into dummy: Ex for Sex: 2 columns -> Sex_male \\ Sex_female using 1 or 0 to fill them\n",
    "X_prediction_missing_values = pd.get_dummies(prediction_data[features])\n"
   ]
  },
  {
   "cell_type": "code",
   "execution_count": 14,
   "id": "99e8bc19",
   "metadata": {
    "execution": {
     "iopub.execute_input": "2022-11-24T03:08:25.986212Z",
     "iopub.status.busy": "2022-11-24T03:08:25.985894Z",
     "iopub.status.idle": "2022-11-24T03:08:26.001536Z",
     "shell.execute_reply": "2022-11-24T03:08:26.000046Z"
    },
    "papermill": {
     "duration": 0.027864,
     "end_time": "2022-11-24T03:08:26.004166",
     "exception": false,
     "start_time": "2022-11-24T03:08:25.976302",
     "status": "completed"
    },
    "tags": []
   },
   "outputs": [],
   "source": [
    "my_imputer = SimpleImputer(strategy = 'median')   #Age has missing values --> Try SimpleImputer(). Error if one of the variables are categorical -> first get_dummy and then missing values.\n",
    "X = pd.DataFrame(my_imputer.fit_transform(X_missing_values))\n",
    "X_prediction = pd.DataFrame(my_imputer.transform(X_prediction_missing_values))\n",
    "\n",
    "X.columns = X_missing_values.columns   #Imputation removes columns' names; put them back\n",
    "X_prediction.columns = X_prediction_missing_values.columns"
   ]
  },
  {
   "cell_type": "code",
   "execution_count": 15,
   "id": "8533710e",
   "metadata": {
    "execution": {
     "iopub.execute_input": "2022-11-24T03:08:26.022582Z",
     "iopub.status.busy": "2022-11-24T03:08:26.022277Z",
     "iopub.status.idle": "2022-11-24T03:08:26.028782Z",
     "shell.execute_reply": "2022-11-24T03:08:26.027807Z"
    },
    "papermill": {
     "duration": 0.017976,
     "end_time": "2022-11-24T03:08:26.030541",
     "exception": false,
     "start_time": "2022-11-24T03:08:26.012565",
     "status": "completed"
    },
    "tags": []
   },
   "outputs": [],
   "source": [
    "from sklearn.model_selection import train_test_split\n",
    "\n",
    "train_X, test_X, train_y, test_y = train_test_split(X, y, random_state=0)"
   ]
  },
  {
   "cell_type": "code",
   "execution_count": 16,
   "id": "7bcacafc",
   "metadata": {
    "execution": {
     "iopub.execute_input": "2022-11-24T03:08:26.049900Z",
     "iopub.status.busy": "2022-11-24T03:08:26.048931Z",
     "iopub.status.idle": "2022-11-24T03:08:26.055664Z",
     "shell.execute_reply": "2022-11-24T03:08:26.053939Z"
    },
    "papermill": {
     "duration": 0.018763,
     "end_time": "2022-11-24T03:08:26.057807",
     "exception": false,
     "start_time": "2022-11-24T03:08:26.039044",
     "status": "completed"
    },
    "tags": []
   },
   "outputs": [],
   "source": [
    "from sklearn.metrics import mean_absolute_error\n",
    "\n",
    "def my_mae(n_estimators, max_depth, train_X, test_X, train_y, test_y):\n",
    "    model_tuning = RandomForestClassifier(n_estimators=n_estimators, max_depth=max_depth, random_state=0)\n",
    "    model_tuning.fit(train_X, train_y)\n",
    "    predictions_tuning = model_tuning.predict(test_X)\n",
    "    MAE = mean_absolute_error(test_y, predictions_tuning)\n",
    "    return(MAE)"
   ]
  },
  {
   "cell_type": "code",
   "execution_count": 17,
   "id": "350ff13d",
   "metadata": {
    "execution": {
     "iopub.execute_input": "2022-11-24T03:08:26.076604Z",
     "iopub.status.busy": "2022-11-24T03:08:26.076271Z",
     "iopub.status.idle": "2022-11-24T03:08:27.861835Z",
     "shell.execute_reply": "2022-11-24T03:08:27.860083Z"
    },
    "papermill": {
     "duration": 1.798366,
     "end_time": "2022-11-24T03:08:27.864836",
     "exception": false,
     "start_time": "2022-11-24T03:08:26.066470",
     "status": "completed"
    },
    "tags": []
   },
   "outputs": [
    {
     "name": "stdout",
     "output_type": "stream",
     "text": [
      "2 0.19730941704035873\n",
      "5 0.19282511210762332\n",
      "10 0.18834080717488788\n",
      "20 0.17937219730941703\n",
      "30 0.18385650224215247\n",
      "50 0.17937219730941703\n",
      "100 0.17937219730941703\n",
      "200 0.17937219730941703\n",
      "250 0.18385650224215247\n",
      "300 0.17937219730941703\n",
      "350 0.17937219730941703\n"
     ]
    }
   ],
   "source": [
    "#model tuning: n_estimators\n",
    "for n in [2,5,10,20,30,50,100,200,250, 300, 350]:\n",
    "    mae = my_mae(n,5,train_X, test_X, train_y, test_y)\n",
    "    print(n, mae)"
   ]
  },
  {
   "cell_type": "code",
   "execution_count": 18,
   "id": "5602a0fd",
   "metadata": {
    "execution": {
     "iopub.execute_input": "2022-11-24T03:08:27.884649Z",
     "iopub.status.busy": "2022-11-24T03:08:27.884296Z",
     "iopub.status.idle": "2022-11-24T03:08:29.297421Z",
     "shell.execute_reply": "2022-11-24T03:08:29.295125Z"
    },
    "papermill": {
     "duration": 1.425426,
     "end_time": "2022-11-24T03:08:29.299844",
     "exception": false,
     "start_time": "2022-11-24T03:08:27.874418",
     "status": "completed"
    },
    "tags": []
   },
   "outputs": [
    {
     "name": "stdout",
     "output_type": "stream",
     "text": [
      "1 0.21973094170403587\n",
      "2 0.2062780269058296\n",
      "3 0.2062780269058296\n",
      "4 0.17937219730941703\n",
      "5 0.17937219730941703\n",
      "6 0.17937219730941703\n",
      "7 0.17937219730941703\n",
      "8 0.18834080717488788\n",
      "9 0.19282511210762332\n",
      "10 0.20179372197309417\n"
     ]
    }
   ],
   "source": [
    "#model tuning: max_depth\n",
    "for depth in [1,2,3,4,5,6, 7,8,9,10]:\n",
    "    mae = my_mae(100,depth,train_X, test_X, train_y, test_y)\n",
    "    print(depth, mae)"
   ]
  },
  {
   "cell_type": "code",
   "execution_count": 19,
   "id": "57c68da8",
   "metadata": {
    "execution": {
     "iopub.execute_input": "2022-11-24T03:08:29.320186Z",
     "iopub.status.busy": "2022-11-24T03:08:29.319886Z",
     "iopub.status.idle": "2022-11-24T03:08:29.400862Z",
     "shell.execute_reply": "2022-11-24T03:08:29.399066Z"
    },
    "papermill": {
     "duration": 0.094358,
     "end_time": "2022-11-24T03:08:29.403713",
     "exception": false,
     "start_time": "2022-11-24T03:08:29.309355",
     "status": "completed"
    },
    "tags": []
   },
   "outputs": [],
   "source": [
    "model= RandomForestClassifier(n_estimators=50, max_depth=4, random_state=0)\n",
    "model.fit(X, y)\n",
    "predictions = model.predict(X_prediction)"
   ]
  },
  {
   "cell_type": "code",
   "execution_count": 20,
   "id": "60fbf22b",
   "metadata": {
    "execution": {
     "iopub.execute_input": "2022-11-24T03:08:29.424256Z",
     "iopub.status.busy": "2022-11-24T03:08:29.423944Z",
     "iopub.status.idle": "2022-11-24T03:08:29.433572Z",
     "shell.execute_reply": "2022-11-24T03:08:29.432357Z"
    },
    "papermill": {
     "duration": 0.022464,
     "end_time": "2022-11-24T03:08:29.435586",
     "exception": false,
     "start_time": "2022-11-24T03:08:29.413122",
     "status": "completed"
    },
    "tags": []
   },
   "outputs": [
    {
     "name": "stdout",
     "output_type": "stream",
     "text": [
      "Your submission was succesfully saved!\n"
     ]
    }
   ],
   "source": [
    "output = pd.DataFrame({'PassengerId': prediction_data.PassengerId, 'Survived': predictions})  #stores output in dictionary\n",
    "output.to_csv('submission.csv', index=False)\n",
    "print(\"Your submission was succesfully saved!\")"
   ]
  }
 ],
 "metadata": {
  "kernelspec": {
   "display_name": "Python 3",
   "language": "python",
   "name": "python3"
  },
  "language_info": {
   "codemirror_mode": {
    "name": "ipython",
    "version": 3
   },
   "file_extension": ".py",
   "mimetype": "text/x-python",
   "name": "python",
   "nbconvert_exporter": "python",
   "pygments_lexer": "ipython3",
   "version": "3.7.12"
  },
  "papermill": {
   "default_parameters": {},
   "duration": 21.314567,
   "end_time": "2022-11-24T03:08:30.165903",
   "environment_variables": {},
   "exception": null,
   "input_path": "__notebook__.ipynb",
   "output_path": "__notebook__.ipynb",
   "parameters": {},
   "start_time": "2022-11-24T03:08:08.851336",
   "version": "2.3.4"
  }
 },
 "nbformat": 4,
 "nbformat_minor": 5
}
