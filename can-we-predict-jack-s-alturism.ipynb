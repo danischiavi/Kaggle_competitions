{
 "cells": [
  {
   "cell_type": "code",
   "execution_count": 1,
   "id": "b406b121",
   "metadata": {
    "_cell_guid": "b1076dfc-b9ad-4769-8c92-a6c4dae69d19",
    "_uuid": "8f2839f25d086af736a60e9eeb907d3b93b6e0e5",
    "execution": {
     "iopub.execute_input": "2022-11-22T02:40:58.157274Z",
     "iopub.status.busy": "2022-11-22T02:40:58.156737Z",
     "iopub.status.idle": "2022-11-22T02:40:59.357232Z",
     "shell.execute_reply": "2022-11-22T02:40:59.356316Z"
    },
    "papermill": {
     "duration": 1.212723,
     "end_time": "2022-11-22T02:40:59.360135",
     "exception": false,
     "start_time": "2022-11-22T02:40:58.147412",
     "status": "completed"
    },
    "tags": []
   },
   "outputs": [
    {
     "name": "stdout",
     "output_type": "stream",
     "text": [
      "/kaggle/input/titanic/train.csv\n",
      "/kaggle/input/titanic/test.csv\n",
      "/kaggle/input/titanic/gender_submission.csv\n"
     ]
    }
   ],
   "source": [
    "import numpy as np # linear algebra\n",
    "import pandas as pd # data processing, CSV file I/O (e.g. pd.read_csv)\n",
    "pd.plotting.register_matplotlib_converters()\n",
    "import matplotlib.pyplot as plt\n",
    "%matplotlib inline \n",
    "import seaborn as sns #library for visualization\n",
    "\n",
    "import os\n",
    "for dirname, _, filenames in os.walk('/kaggle/input'):\n",
    "    for filename in filenames:\n",
    "        print(os.path.join(dirname, filename))"
   ]
  },
  {
   "cell_type": "code",
   "execution_count": 2,
   "id": "54f30f09",
   "metadata": {
    "execution": {
     "iopub.execute_input": "2022-11-22T02:40:59.374939Z",
     "iopub.status.busy": "2022-11-22T02:40:59.373795Z",
     "iopub.status.idle": "2022-11-22T02:40:59.418100Z",
     "shell.execute_reply": "2022-11-22T02:40:59.416643Z"
    },
    "papermill": {
     "duration": 0.054663,
     "end_time": "2022-11-22T02:40:59.420969",
     "exception": false,
     "start_time": "2022-11-22T02:40:59.366306",
     "status": "completed"
    },
    "tags": []
   },
   "outputs": [
    {
     "data": {
      "text/html": [
       "<div>\n",
       "<style scoped>\n",
       "    .dataframe tbody tr th:only-of-type {\n",
       "        vertical-align: middle;\n",
       "    }\n",
       "\n",
       "    .dataframe tbody tr th {\n",
       "        vertical-align: top;\n",
       "    }\n",
       "\n",
       "    .dataframe thead th {\n",
       "        text-align: right;\n",
       "    }\n",
       "</style>\n",
       "<table border=\"1\" class=\"dataframe\">\n",
       "  <thead>\n",
       "    <tr style=\"text-align: right;\">\n",
       "      <th></th>\n",
       "      <th>PassengerId</th>\n",
       "      <th>Survived</th>\n",
       "      <th>Pclass</th>\n",
       "      <th>Name</th>\n",
       "      <th>Sex</th>\n",
       "      <th>Age</th>\n",
       "      <th>SibSp</th>\n",
       "      <th>Parch</th>\n",
       "      <th>Ticket</th>\n",
       "      <th>Fare</th>\n",
       "      <th>Cabin</th>\n",
       "      <th>Embarked</th>\n",
       "    </tr>\n",
       "  </thead>\n",
       "  <tbody>\n",
       "    <tr>\n",
       "      <th>0</th>\n",
       "      <td>1</td>\n",
       "      <td>0</td>\n",
       "      <td>3</td>\n",
       "      <td>Braund, Mr. Owen Harris</td>\n",
       "      <td>male</td>\n",
       "      <td>22.0</td>\n",
       "      <td>1</td>\n",
       "      <td>0</td>\n",
       "      <td>A/5 21171</td>\n",
       "      <td>7.2500</td>\n",
       "      <td>NaN</td>\n",
       "      <td>S</td>\n",
       "    </tr>\n",
       "    <tr>\n",
       "      <th>1</th>\n",
       "      <td>2</td>\n",
       "      <td>1</td>\n",
       "      <td>1</td>\n",
       "      <td>Cumings, Mrs. John Bradley (Florence Briggs Th...</td>\n",
       "      <td>female</td>\n",
       "      <td>38.0</td>\n",
       "      <td>1</td>\n",
       "      <td>0</td>\n",
       "      <td>PC 17599</td>\n",
       "      <td>71.2833</td>\n",
       "      <td>C85</td>\n",
       "      <td>C</td>\n",
       "    </tr>\n",
       "    <tr>\n",
       "      <th>2</th>\n",
       "      <td>3</td>\n",
       "      <td>1</td>\n",
       "      <td>3</td>\n",
       "      <td>Heikkinen, Miss. Laina</td>\n",
       "      <td>female</td>\n",
       "      <td>26.0</td>\n",
       "      <td>0</td>\n",
       "      <td>0</td>\n",
       "      <td>STON/O2. 3101282</td>\n",
       "      <td>7.9250</td>\n",
       "      <td>NaN</td>\n",
       "      <td>S</td>\n",
       "    </tr>\n",
       "    <tr>\n",
       "      <th>3</th>\n",
       "      <td>4</td>\n",
       "      <td>1</td>\n",
       "      <td>1</td>\n",
       "      <td>Futrelle, Mrs. Jacques Heath (Lily May Peel)</td>\n",
       "      <td>female</td>\n",
       "      <td>35.0</td>\n",
       "      <td>1</td>\n",
       "      <td>0</td>\n",
       "      <td>113803</td>\n",
       "      <td>53.1000</td>\n",
       "      <td>C123</td>\n",
       "      <td>S</td>\n",
       "    </tr>\n",
       "    <tr>\n",
       "      <th>4</th>\n",
       "      <td>5</td>\n",
       "      <td>0</td>\n",
       "      <td>3</td>\n",
       "      <td>Allen, Mr. William Henry</td>\n",
       "      <td>male</td>\n",
       "      <td>35.0</td>\n",
       "      <td>0</td>\n",
       "      <td>0</td>\n",
       "      <td>373450</td>\n",
       "      <td>8.0500</td>\n",
       "      <td>NaN</td>\n",
       "      <td>S</td>\n",
       "    </tr>\n",
       "  </tbody>\n",
       "</table>\n",
       "</div>"
      ],
      "text/plain": [
       "   PassengerId  Survived  Pclass  \\\n",
       "0            1         0       3   \n",
       "1            2         1       1   \n",
       "2            3         1       3   \n",
       "3            4         1       1   \n",
       "4            5         0       3   \n",
       "\n",
       "                                                Name     Sex   Age  SibSp  \\\n",
       "0                            Braund, Mr. Owen Harris    male  22.0      1   \n",
       "1  Cumings, Mrs. John Bradley (Florence Briggs Th...  female  38.0      1   \n",
       "2                             Heikkinen, Miss. Laina  female  26.0      0   \n",
       "3       Futrelle, Mrs. Jacques Heath (Lily May Peel)  female  35.0      1   \n",
       "4                           Allen, Mr. William Henry    male  35.0      0   \n",
       "\n",
       "   Parch            Ticket     Fare Cabin Embarked  \n",
       "0      0         A/5 21171   7.2500   NaN        S  \n",
       "1      0          PC 17599  71.2833   C85        C  \n",
       "2      0  STON/O2. 3101282   7.9250   NaN        S  \n",
       "3      0            113803  53.1000  C123        S  \n",
       "4      0            373450   8.0500   NaN        S  "
      ]
     },
     "execution_count": 2,
     "metadata": {},
     "output_type": "execute_result"
    }
   ],
   "source": [
    "train_data = pd.read_csv(\"/kaggle/input/titanic/train.csv\") #Load training data\n",
    "train_data.head() \n"
   ]
  },
  {
   "cell_type": "code",
   "execution_count": 3,
   "id": "1f4bd51a",
   "metadata": {
    "execution": {
     "iopub.execute_input": "2022-11-22T02:40:59.436502Z",
     "iopub.status.busy": "2022-11-22T02:40:59.435046Z",
     "iopub.status.idle": "2022-11-22T02:40:59.461959Z",
     "shell.execute_reply": "2022-11-22T02:40:59.460621Z"
    },
    "papermill": {
     "duration": 0.037299,
     "end_time": "2022-11-22T02:40:59.464756",
     "exception": false,
     "start_time": "2022-11-22T02:40:59.427457",
     "status": "completed"
    },
    "tags": []
   },
   "outputs": [
    {
     "data": {
      "text/html": [
       "<div>\n",
       "<style scoped>\n",
       "    .dataframe tbody tr th:only-of-type {\n",
       "        vertical-align: middle;\n",
       "    }\n",
       "\n",
       "    .dataframe tbody tr th {\n",
       "        vertical-align: top;\n",
       "    }\n",
       "\n",
       "    .dataframe thead th {\n",
       "        text-align: right;\n",
       "    }\n",
       "</style>\n",
       "<table border=\"1\" class=\"dataframe\">\n",
       "  <thead>\n",
       "    <tr style=\"text-align: right;\">\n",
       "      <th></th>\n",
       "      <th>PassengerId</th>\n",
       "      <th>Pclass</th>\n",
       "      <th>Name</th>\n",
       "      <th>Sex</th>\n",
       "      <th>Age</th>\n",
       "      <th>SibSp</th>\n",
       "      <th>Parch</th>\n",
       "      <th>Ticket</th>\n",
       "      <th>Fare</th>\n",
       "      <th>Cabin</th>\n",
       "      <th>Embarked</th>\n",
       "    </tr>\n",
       "  </thead>\n",
       "  <tbody>\n",
       "    <tr>\n",
       "      <th>0</th>\n",
       "      <td>892</td>\n",
       "      <td>3</td>\n",
       "      <td>Kelly, Mr. James</td>\n",
       "      <td>male</td>\n",
       "      <td>34.5</td>\n",
       "      <td>0</td>\n",
       "      <td>0</td>\n",
       "      <td>330911</td>\n",
       "      <td>7.8292</td>\n",
       "      <td>NaN</td>\n",
       "      <td>Q</td>\n",
       "    </tr>\n",
       "    <tr>\n",
       "      <th>1</th>\n",
       "      <td>893</td>\n",
       "      <td>3</td>\n",
       "      <td>Wilkes, Mrs. James (Ellen Needs)</td>\n",
       "      <td>female</td>\n",
       "      <td>47.0</td>\n",
       "      <td>1</td>\n",
       "      <td>0</td>\n",
       "      <td>363272</td>\n",
       "      <td>7.0000</td>\n",
       "      <td>NaN</td>\n",
       "      <td>S</td>\n",
       "    </tr>\n",
       "    <tr>\n",
       "      <th>2</th>\n",
       "      <td>894</td>\n",
       "      <td>2</td>\n",
       "      <td>Myles, Mr. Thomas Francis</td>\n",
       "      <td>male</td>\n",
       "      <td>62.0</td>\n",
       "      <td>0</td>\n",
       "      <td>0</td>\n",
       "      <td>240276</td>\n",
       "      <td>9.6875</td>\n",
       "      <td>NaN</td>\n",
       "      <td>Q</td>\n",
       "    </tr>\n",
       "    <tr>\n",
       "      <th>3</th>\n",
       "      <td>895</td>\n",
       "      <td>3</td>\n",
       "      <td>Wirz, Mr. Albert</td>\n",
       "      <td>male</td>\n",
       "      <td>27.0</td>\n",
       "      <td>0</td>\n",
       "      <td>0</td>\n",
       "      <td>315154</td>\n",
       "      <td>8.6625</td>\n",
       "      <td>NaN</td>\n",
       "      <td>S</td>\n",
       "    </tr>\n",
       "    <tr>\n",
       "      <th>4</th>\n",
       "      <td>896</td>\n",
       "      <td>3</td>\n",
       "      <td>Hirvonen, Mrs. Alexander (Helga E Lindqvist)</td>\n",
       "      <td>female</td>\n",
       "      <td>22.0</td>\n",
       "      <td>1</td>\n",
       "      <td>1</td>\n",
       "      <td>3101298</td>\n",
       "      <td>12.2875</td>\n",
       "      <td>NaN</td>\n",
       "      <td>S</td>\n",
       "    </tr>\n",
       "  </tbody>\n",
       "</table>\n",
       "</div>"
      ],
      "text/plain": [
       "   PassengerId  Pclass                                          Name     Sex  \\\n",
       "0          892       3                              Kelly, Mr. James    male   \n",
       "1          893       3              Wilkes, Mrs. James (Ellen Needs)  female   \n",
       "2          894       2                     Myles, Mr. Thomas Francis    male   \n",
       "3          895       3                              Wirz, Mr. Albert    male   \n",
       "4          896       3  Hirvonen, Mrs. Alexander (Helga E Lindqvist)  female   \n",
       "\n",
       "    Age  SibSp  Parch   Ticket     Fare Cabin Embarked  \n",
       "0  34.5      0      0   330911   7.8292   NaN        Q  \n",
       "1  47.0      1      0   363272   7.0000   NaN        S  \n",
       "2  62.0      0      0   240276   9.6875   NaN        Q  \n",
       "3  27.0      0      0   315154   8.6625   NaN        S  \n",
       "4  22.0      1      1  3101298  12.2875   NaN        S  "
      ]
     },
     "execution_count": 3,
     "metadata": {},
     "output_type": "execute_result"
    }
   ],
   "source": [
    "test_data = pd.read_csv(\"/kaggle/input/titanic/test.csv\")  #Load test data -> Survived column is missing because is what I have to predict\n",
    "test_data.head()"
   ]
  },
  {
   "cell_type": "code",
   "execution_count": 4,
   "id": "88809fca",
   "metadata": {
    "execution": {
     "iopub.execute_input": "2022-11-22T02:40:59.481221Z",
     "iopub.status.busy": "2022-11-22T02:40:59.479255Z",
     "iopub.status.idle": "2022-11-22T02:40:59.525008Z",
     "shell.execute_reply": "2022-11-22T02:40:59.523653Z"
    },
    "papermill": {
     "duration": 0.056501,
     "end_time": "2022-11-22T02:40:59.527978",
     "exception": false,
     "start_time": "2022-11-22T02:40:59.471477",
     "status": "completed"
    },
    "tags": []
   },
   "outputs": [
    {
     "data": {
      "text/html": [
       "<div>\n",
       "<style scoped>\n",
       "    .dataframe tbody tr th:only-of-type {\n",
       "        vertical-align: middle;\n",
       "    }\n",
       "\n",
       "    .dataframe tbody tr th {\n",
       "        vertical-align: top;\n",
       "    }\n",
       "\n",
       "    .dataframe thead th {\n",
       "        text-align: right;\n",
       "    }\n",
       "</style>\n",
       "<table border=\"1\" class=\"dataframe\">\n",
       "  <thead>\n",
       "    <tr style=\"text-align: right;\">\n",
       "      <th></th>\n",
       "      <th>PassengerId</th>\n",
       "      <th>Survived</th>\n",
       "      <th>Pclass</th>\n",
       "      <th>Age</th>\n",
       "      <th>SibSp</th>\n",
       "      <th>Parch</th>\n",
       "      <th>Fare</th>\n",
       "    </tr>\n",
       "  </thead>\n",
       "  <tbody>\n",
       "    <tr>\n",
       "      <th>count</th>\n",
       "      <td>891.000000</td>\n",
       "      <td>891.000000</td>\n",
       "      <td>891.000000</td>\n",
       "      <td>714.000000</td>\n",
       "      <td>891.000000</td>\n",
       "      <td>891.000000</td>\n",
       "      <td>891.000000</td>\n",
       "    </tr>\n",
       "    <tr>\n",
       "      <th>mean</th>\n",
       "      <td>446.000000</td>\n",
       "      <td>0.383838</td>\n",
       "      <td>2.308642</td>\n",
       "      <td>29.699118</td>\n",
       "      <td>0.523008</td>\n",
       "      <td>0.381594</td>\n",
       "      <td>32.204208</td>\n",
       "    </tr>\n",
       "    <tr>\n",
       "      <th>std</th>\n",
       "      <td>257.353842</td>\n",
       "      <td>0.486592</td>\n",
       "      <td>0.836071</td>\n",
       "      <td>14.526497</td>\n",
       "      <td>1.102743</td>\n",
       "      <td>0.806057</td>\n",
       "      <td>49.693429</td>\n",
       "    </tr>\n",
       "    <tr>\n",
       "      <th>min</th>\n",
       "      <td>1.000000</td>\n",
       "      <td>0.000000</td>\n",
       "      <td>1.000000</td>\n",
       "      <td>0.420000</td>\n",
       "      <td>0.000000</td>\n",
       "      <td>0.000000</td>\n",
       "      <td>0.000000</td>\n",
       "    </tr>\n",
       "    <tr>\n",
       "      <th>25%</th>\n",
       "      <td>223.500000</td>\n",
       "      <td>0.000000</td>\n",
       "      <td>2.000000</td>\n",
       "      <td>20.125000</td>\n",
       "      <td>0.000000</td>\n",
       "      <td>0.000000</td>\n",
       "      <td>7.910400</td>\n",
       "    </tr>\n",
       "    <tr>\n",
       "      <th>50%</th>\n",
       "      <td>446.000000</td>\n",
       "      <td>0.000000</td>\n",
       "      <td>3.000000</td>\n",
       "      <td>28.000000</td>\n",
       "      <td>0.000000</td>\n",
       "      <td>0.000000</td>\n",
       "      <td>14.454200</td>\n",
       "    </tr>\n",
       "    <tr>\n",
       "      <th>75%</th>\n",
       "      <td>668.500000</td>\n",
       "      <td>1.000000</td>\n",
       "      <td>3.000000</td>\n",
       "      <td>38.000000</td>\n",
       "      <td>1.000000</td>\n",
       "      <td>0.000000</td>\n",
       "      <td>31.000000</td>\n",
       "    </tr>\n",
       "    <tr>\n",
       "      <th>max</th>\n",
       "      <td>891.000000</td>\n",
       "      <td>1.000000</td>\n",
       "      <td>3.000000</td>\n",
       "      <td>80.000000</td>\n",
       "      <td>8.000000</td>\n",
       "      <td>6.000000</td>\n",
       "      <td>512.329200</td>\n",
       "    </tr>\n",
       "  </tbody>\n",
       "</table>\n",
       "</div>"
      ],
      "text/plain": [
       "       PassengerId    Survived      Pclass         Age       SibSp  \\\n",
       "count   891.000000  891.000000  891.000000  714.000000  891.000000   \n",
       "mean    446.000000    0.383838    2.308642   29.699118    0.523008   \n",
       "std     257.353842    0.486592    0.836071   14.526497    1.102743   \n",
       "min       1.000000    0.000000    1.000000    0.420000    0.000000   \n",
       "25%     223.500000    0.000000    2.000000   20.125000    0.000000   \n",
       "50%     446.000000    0.000000    3.000000   28.000000    0.000000   \n",
       "75%     668.500000    1.000000    3.000000   38.000000    1.000000   \n",
       "max     891.000000    1.000000    3.000000   80.000000    8.000000   \n",
       "\n",
       "            Parch        Fare  \n",
       "count  891.000000  891.000000  \n",
       "mean     0.381594   32.204208  \n",
       "std      0.806057   49.693429  \n",
       "min      0.000000    0.000000  \n",
       "25%      0.000000    7.910400  \n",
       "50%      0.000000   14.454200  \n",
       "75%      0.000000   31.000000  \n",
       "max      6.000000  512.329200  "
      ]
     },
     "execution_count": 4,
     "metadata": {},
     "output_type": "execute_result"
    }
   ],
   "source": [
    "train_data.describe()"
   ]
  },
  {
   "cell_type": "code",
   "execution_count": 5,
   "id": "ac828504",
   "metadata": {
    "execution": {
     "iopub.execute_input": "2022-11-22T02:40:59.542925Z",
     "iopub.status.busy": "2022-11-22T02:40:59.542515Z",
     "iopub.status.idle": "2022-11-22T02:40:59.808020Z",
     "shell.execute_reply": "2022-11-22T02:40:59.806575Z"
    },
    "papermill": {
     "duration": 0.27646,
     "end_time": "2022-11-22T02:40:59.811049",
     "exception": false,
     "start_time": "2022-11-22T02:40:59.534589",
     "status": "completed"
    },
    "tags": []
   },
   "outputs": [
    {
     "data": {
      "text/plain": [
       "<AxesSubplot:xlabel='Pclass', ylabel='Survived'>"
      ]
     },
     "execution_count": 5,
     "metadata": {},
     "output_type": "execute_result"
    },
    {
     "data": {
      "image/png": "[encoded data removed]",
      "text/plain": [
       "<Figure size 432x288 with 1 Axes>"
      ]
     },
     "metadata": {
      "needs_background": "light"
     },
     "output_type": "display_data"
    }
   ],
   "source": [
    "#Data analisis with visualization\n",
    "\n",
    "sns.barplot(x=train_data['Pclass'], y=train_data['Survived'])"
   ]
  },
  {
   "cell_type": "markdown",
   "id": "b243e08c",
   "metadata": {
    "papermill": {
     "duration": 0.006757,
     "end_time": "2022-11-22T02:40:59.825040",
     "exception": false,
     "start_time": "2022-11-22T02:40:59.818283",
     "status": "completed"
    },
    "tags": []
   },
   "source": [
    "Graph shows marked relationship between Pclass and survival rate: Higher class, more chances to survive --> Good feature for model"
   ]
  },
  {
   "cell_type": "code",
   "execution_count": 6,
   "id": "95136749",
   "metadata": {
    "execution": {
     "iopub.execute_input": "2022-11-22T02:40:59.841212Z",
     "iopub.status.busy": "2022-11-22T02:40:59.840496Z",
     "iopub.status.idle": "2022-11-22T02:41:00.034255Z",
     "shell.execute_reply": "2022-11-22T02:41:00.033042Z"
    },
    "papermill": {
     "duration": 0.204842,
     "end_time": "2022-11-22T02:41:00.036837",
     "exception": false,
     "start_time": "2022-11-22T02:40:59.831995",
     "status": "completed"
    },
    "tags": []
   },
   "outputs": [
    {
     "data": {
      "text/plain": [
       "<AxesSubplot:xlabel='Sex', ylabel='Survived'>"
      ]
     },
     "execution_count": 6,
     "metadata": {},
     "output_type": "execute_result"
    },
    {
     "data": {
      "image/png": "[encoded data removed]",
      "text/plain": [
       "<Figure size 432x288 with 1 Axes>"
      ]
     },
     "metadata": {
      "needs_background": "light"
     },
     "output_type": "display_data"
    }
   ],
   "source": [
    "sns.barplot(x=train_data['Sex'], y=train_data['Survived'])"
   ]
  },
  {
   "cell_type": "markdown",
   "id": "06355336",
   "metadata": {
    "papermill": {
     "duration": 0.008451,
     "end_time": "2022-11-22T02:41:00.052451",
     "exception": false,
     "start_time": "2022-11-22T02:41:00.044000",
     "status": "completed"
    },
    "tags": []
   },
   "source": [
    "Graph shows marked relationship between Pclass and survival rate: females have more chances to survive --> Good feature for model"
   ]
  },
  {
   "cell_type": "code",
   "execution_count": 7,
   "id": "2910b438",
   "metadata": {
    "execution": {
     "iopub.execute_input": "2022-11-22T02:41:00.068964Z",
     "iopub.status.busy": "2022-11-22T02:41:00.068050Z",
     "iopub.status.idle": "2022-11-22T02:41:00.354344Z",
     "shell.execute_reply": "2022-11-22T02:41:00.352538Z"
    },
    "papermill": {
     "duration": 0.298752,
     "end_time": "2022-11-22T02:41:00.358320",
     "exception": false,
     "start_time": "2022-11-22T02:41:00.059568",
     "status": "completed"
    },
    "tags": []
   },
   "outputs": [
    {
     "data": {
      "text/plain": [
       "<AxesSubplot:xlabel='Age', ylabel='Count'>"
      ]
     },
     "execution_count": 7,
     "metadata": {},
     "output_type": "execute_result"
    },
    {
     "data": {
      "image/png": "[encoded data removed]",
      "text/plain": [
       "<Figure size 432x288 with 1 Axes>"
      ]
     },
     "metadata": {
      "needs_background": "light"
     },
     "output_type": "display_data"
    }
   ],
   "source": [
    "sns.histplot(data=train_data, x='Age')"
   ]
  },
  {
   "cell_type": "code",
   "execution_count": 8,
   "id": "c16774f2",
   "metadata": {
    "execution": {
     "iopub.execute_input": "2022-11-22T02:41:00.381474Z",
     "iopub.status.busy": "2022-11-22T02:41:00.381025Z",
     "iopub.status.idle": "2022-11-22T02:41:00.756405Z",
     "shell.execute_reply": "2022-11-22T02:41:00.755393Z"
    },
    "papermill": {
     "duration": 0.388273,
     "end_time": "2022-11-22T02:41:00.758962",
     "exception": false,
     "start_time": "2022-11-22T02:41:00.370689",
     "status": "completed"
    },
    "tags": []
   },
   "outputs": [
    {
     "data": {
      "text/plain": [
       "<AxesSubplot:xlabel='Age', ylabel='Count'>"
      ]
     },
     "execution_count": 8,
     "metadata": {},
     "output_type": "execute_result"
    },
    {
     "data": {
      "image/png": "[encoded data removed]",
      "text/plain": [
       "<Figure size 432x288 with 1 Axes>"
      ]
     },
     "metadata": {
      "needs_background": "light"
     },
     "output_type": "display_data"
    }
   ],
   "source": [
    "sns.histplot(data=train_data, x='Age', hue='Survived')"
   ]
  },
  {
   "cell_type": "markdown",
   "id": "fe5c598e",
   "metadata": {
    "papermill": {
     "duration": 0.007537,
     "end_time": "2022-11-22T02:41:00.774538",
     "exception": false,
     "start_time": "2022-11-22T02:41:00.767001",
     "status": "completed"
    },
    "tags": []
   },
   "source": [
    "Graph shows distribution of age for survived and not-survived group. Survived group has more counts for children than not-survived. -->Good feature for model"
   ]
  },
  {
   "cell_type": "code",
   "execution_count": 9,
   "id": "cdab991f",
   "metadata": {
    "execution": {
     "iopub.execute_input": "2022-11-22T02:41:00.792580Z",
     "iopub.status.busy": "2022-11-22T02:41:00.791611Z",
     "iopub.status.idle": "2022-11-22T02:41:01.199620Z",
     "shell.execute_reply": "2022-11-22T02:41:01.198340Z"
    },
    "papermill": {
     "duration": 0.419975,
     "end_time": "2022-11-22T02:41:01.202377",
     "exception": false,
     "start_time": "2022-11-22T02:41:00.782402",
     "status": "completed"
    },
    "tags": []
   },
   "outputs": [
    {
     "data": {
      "text/plain": [
       "<AxesSubplot:xlabel='SibSp', ylabel='Survived'>"
      ]
     },
     "execution_count": 9,
     "metadata": {},
     "output_type": "execute_result"
    },
    {
     "data": {
      "image/png": "[encoded data removed]",
      "text/plain": [
       "<Figure size 432x288 with 1 Axes>"
      ]
     },
     "metadata": {
      "needs_background": "light"
     },
     "output_type": "display_data"
    }
   ],
   "source": [
    "sns.barplot(x=train_data['SibSp'], y=train_data['Survived'])\n"
   ]
  },
  {
   "cell_type": "markdown",
   "id": "cfdfa094",
   "metadata": {
    "papermill": {
     "duration": 0.007796,
     "end_time": "2022-11-22T02:41:01.218380",
     "exception": false,
     "start_time": "2022-11-22T02:41:01.210584",
     "status": "completed"
    },
    "tags": []
   },
   "source": [
    "Graph shows relationship between survival rate and number of siblings or spouse: more likely to survive if 1, decreasing with number -->Good feature for model "
   ]
  },
  {
   "cell_type": "code",
   "execution_count": 10,
   "id": "9ae520c3",
   "metadata": {
    "execution": {
     "iopub.execute_input": "2022-11-22T02:41:01.236584Z",
     "iopub.status.busy": "2022-11-22T02:41:01.236206Z",
     "iopub.status.idle": "2022-11-22T02:41:01.612343Z",
     "shell.execute_reply": "2022-11-22T02:41:01.611166Z"
    },
    "papermill": {
     "duration": 0.388246,
     "end_time": "2022-11-22T02:41:01.614827",
     "exception": false,
     "start_time": "2022-11-22T02:41:01.226581",
     "status": "completed"
    },
    "tags": []
   },
   "outputs": [
    {
     "data": {
      "text/plain": [
       "<AxesSubplot:xlabel='Parch', ylabel='Survived'>"
      ]
     },
     "execution_count": 10,
     "metadata": {},
     "output_type": "execute_result"
    },
    {
     "data": {
      "image/png": "[encoded data removed]",
      "text/plain": [
       "<Figure size 432x288 with 1 Axes>"
      ]
     },
     "metadata": {
      "needs_background": "light"
     },
     "output_type": "display_data"
    }
   ],
   "source": [
    "sns.barplot(x=train_data['Parch'], y=train_data['Survived'])"
   ]
  },
  {
   "cell_type": "markdown",
   "id": "ceee1e24",
   "metadata": {
    "papermill": {
     "duration": 0.008241,
     "end_time": "2022-11-22T02:41:01.631844",
     "exception": false,
     "start_time": "2022-11-22T02:41:01.623603",
     "status": "completed"
    },
    "tags": []
   },
   "source": [
    "Graph shows relationship between suvival rate and number of parents/children. It does not have a strong relationship --> Feature not good for model. "
   ]
  },
  {
   "cell_type": "code",
   "execution_count": 11,
   "id": "0838fb26",
   "metadata": {
    "execution": {
     "iopub.execute_input": "2022-11-22T02:41:01.651182Z",
     "iopub.status.busy": "2022-11-22T02:41:01.650776Z",
     "iopub.status.idle": "2022-11-22T02:41:07.268923Z",
     "shell.execute_reply": "2022-11-22T02:41:07.267484Z"
    },
    "papermill": {
     "duration": 5.630945,
     "end_time": "2022-11-22T02:41:07.271547",
     "exception": false,
     "start_time": "2022-11-22T02:41:01.640602",
     "status": "completed"
    },
    "tags": []
   },
   "outputs": [
    {
     "name": "stderr",
     "output_type": "stream",
     "text": [
      "/opt/conda/lib/python3.7/site-packages/seaborn/categorical.py:1296: UserWarning: 72.3% of the points cannot be placed; you may want to decrease the size of the markers or use stripplot.\n",
      "  warnings.warn(msg, UserWarning)\n",
      "/opt/conda/lib/python3.7/site-packages/seaborn/categorical.py:1296: UserWarning: 46.5% of the points cannot be placed; you may want to decrease the size of the markers or use stripplot.\n",
      "  warnings.warn(msg, UserWarning)\n"
     ]
    },
    {
     "data": {
      "text/plain": [
       "<AxesSubplot:xlabel='Survived', ylabel='Fare'>"
      ]
     },
     "execution_count": 11,
     "metadata": {},
     "output_type": "execute_result"
    },
    {
     "data": {
      "image/png": "[encoded data removed]",
      "text/plain": [
       "<Figure size 432x288 with 1 Axes>"
      ]
     },
     "metadata": {
      "needs_background": "light"
     },
     "output_type": "display_data"
    }
   ],
   "source": [
    "sns.swarmplot(x=train_data['Survived'], y=train_data['Fare'])"
   ]
  },
  {
   "cell_type": "markdown",
   "id": "cd15522c",
   "metadata": {
    "papermill": {
     "duration": 0.008992,
     "end_time": "2022-11-22T02:41:07.290028",
     "exception": false,
     "start_time": "2022-11-22T02:41:07.281036",
     "status": "completed"
    },
    "tags": []
   },
   "source": [
    "There isn't evident relationship between fare and survived --> Feature not good for model "
   ]
  },
  {
   "cell_type": "markdown",
   "id": "13a1daf6",
   "metadata": {
    "papermill": {
     "duration": 0.009023,
     "end_time": "2022-11-22T02:41:07.308723",
     "exception": false,
     "start_time": "2022-11-22T02:41:07.299700",
     "status": "completed"
    },
    "tags": []
   },
   "source": []
  },
  {
   "cell_type": "code",
   "execution_count": 12,
   "id": "a6ac0587",
   "metadata": {
    "execution": {
     "iopub.execute_input": "2022-11-22T02:41:07.329953Z",
     "iopub.status.busy": "2022-11-22T02:41:07.329522Z",
     "iopub.status.idle": "2022-11-22T02:41:07.612751Z",
     "shell.execute_reply": "2022-11-22T02:41:07.611654Z"
    },
    "papermill": {
     "duration": 0.29748,
     "end_time": "2022-11-22T02:41:07.615504",
     "exception": false,
     "start_time": "2022-11-22T02:41:07.318024",
     "status": "completed"
    },
    "tags": []
   },
   "outputs": [
    {
     "data": {
      "text/plain": [
       "<AxesSubplot:xlabel='Embarked', ylabel='Survived'>"
      ]
     },
     "execution_count": 12,
     "metadata": {},
     "output_type": "execute_result"
    },
    {
     "data": {
      "image/png": "[encoded data removed]",
      "text/plain": [
       "<Figure size 432x288 with 1 Axes>"
      ]
     },
     "metadata": {
      "needs_background": "light"
     },
     "output_type": "display_data"
    }
   ],
   "source": [
    "sns.barplot(x=train_data['Embarked'], y=train_data['Survived'])"
   ]
  },
  {
   "cell_type": "markdown",
   "id": "06611162",
   "metadata": {
    "papermill": {
     "duration": 0.009506,
     "end_time": "2022-11-22T02:41:07.634948",
     "exception": false,
     "start_time": "2022-11-22T02:41:07.625442",
     "status": "completed"
    },
    "tags": []
   },
   "source": [
    "Relationship between survival and port of embarcation is similar between the 3 of them --> Feature not good for model."
   ]
  },
  {
   "cell_type": "code",
   "execution_count": 13,
   "id": "343c117b",
   "metadata": {
    "execution": {
     "iopub.execute_input": "2022-11-22T02:41:07.656548Z",
     "iopub.status.busy": "2022-11-22T02:41:07.655902Z",
     "iopub.status.idle": "2022-11-22T02:41:08.124118Z",
     "shell.execute_reply": "2022-11-22T02:41:08.122933Z"
    },
    "papermill": {
     "duration": 0.482234,
     "end_time": "2022-11-22T02:41:08.126945",
     "exception": false,
     "start_time": "2022-11-22T02:41:07.644711",
     "status": "completed"
    },
    "tags": []
   },
   "outputs": [],
   "source": [
    "from sklearn.ensemble import RandomForestClassifier  #sklearn.ensemble is a module which contains the class RandomForestClassifier is\n",
    "from sklearn.impute import SimpleImputer\n",
    "\n",
    "y = train_data[\"Survived\"]\n",
    "\n",
    "features = [\"Pclass\", \"Sex\", \"Age\", \"SibSp\"]\n",
    "X_missing_values = pd.get_dummies(train_data[features])  #converts categorical variable into dummy: Ex for Sex: 2 columns -> Sex_male \\ Sex_female using 1 or 0 to fill them\n",
    "X_test_missing_values = pd.get_dummies(test_data[features])\n"
   ]
  },
  {
   "cell_type": "code",
   "execution_count": 14,
   "id": "ba84c681",
   "metadata": {
    "execution": {
     "iopub.execute_input": "2022-11-22T02:41:08.147861Z",
     "iopub.status.busy": "2022-11-22T02:41:08.147472Z",
     "iopub.status.idle": "2022-11-22T02:41:08.162882Z",
     "shell.execute_reply": "2022-11-22T02:41:08.161903Z"
    },
    "papermill": {
     "duration": 0.029367,
     "end_time": "2022-11-22T02:41:08.165968",
     "exception": false,
     "start_time": "2022-11-22T02:41:08.136601",
     "status": "completed"
    },
    "tags": []
   },
   "outputs": [],
   "source": [
    "my_imputer = SimpleImputer()   #Age has missing values --> Try SimpleImputer(). Error if one of the variables are categorical -> first get_dummy and then missing values.\n",
    "X = pd.DataFrame(my_imputer.fit_transform(X_missing_values))\n",
    "X_test = pd.DataFrame(my_imputer.transform(X_test_missing_values))\n",
    "\n",
    "X.columns = X_missing_values.columns   #Imputation removes columns' names; put them back\n",
    "X_test.columns = X_test_missing_values.columns"
   ]
  },
  {
   "cell_type": "code",
   "execution_count": 15,
   "id": "47512cff",
   "metadata": {
    "execution": {
     "iopub.execute_input": "2022-11-22T02:41:08.187501Z",
     "iopub.status.busy": "2022-11-22T02:41:08.187096Z",
     "iopub.status.idle": "2022-11-22T02:41:08.381102Z",
     "shell.execute_reply": "2022-11-22T02:41:08.379946Z"
    },
    "papermill": {
     "duration": 0.208076,
     "end_time": "2022-11-22T02:41:08.383905",
     "exception": false,
     "start_time": "2022-11-22T02:41:08.175829",
     "status": "completed"
    },
    "tags": []
   },
   "outputs": [],
   "source": [
    "model = RandomForestClassifier(n_estimators=100, max_depth=5, random_state=1)\n",
    "model.fit(X, y)\n",
    "predictions = model.predict(X_test)\n"
   ]
  },
  {
   "cell_type": "code",
   "execution_count": 16,
   "id": "19584201",
   "metadata": {
    "execution": {
     "iopub.execute_input": "2022-11-22T02:41:08.404812Z",
     "iopub.status.busy": "2022-11-22T02:41:08.404393Z",
     "iopub.status.idle": "2022-11-22T02:41:08.415865Z",
     "shell.execute_reply": "2022-11-22T02:41:08.414405Z"
    },
    "papermill": {
     "duration": 0.025084,
     "end_time": "2022-11-22T02:41:08.418572",
     "exception": false,
     "start_time": "2022-11-22T02:41:08.393488",
     "status": "completed"
    },
    "tags": []
   },
   "outputs": [
    {
     "name": "stdout",
     "output_type": "stream",
     "text": [
      "Your submission was succesfully saved!\n"
     ]
    }
   ],
   "source": [
    "output = pd.DataFrame({'PassengerId': test_data.PassengerId, 'Survived': predictions})  #stores output in dictionary\n",
    "output.to_csv('submission.csv', index=False)\n",
    "print(\"Your submission was succesfully saved!\")"
   ]
  }
 ],
 "metadata": {
  "kernelspec": {
   "display_name": "Python 3",
   "language": "python",
   "name": "python3"
  },
  "language_info": {
   "codemirror_mode": {
    "name": "ipython",
    "version": 3
   },
   "file_extension": ".py",
   "mimetype": "text/x-python",
   "name": "python",
   "nbconvert_exporter": "python",
   "pygments_lexer": "ipython3",
   "version": "3.7.12"
  },
  "papermill": {
   "default_parameters": {},
   "duration": 19.928354,
   "end_time": "2022-11-22T02:41:09.252121",
   "environment_variables": {},
   "exception": null,
   "input_path": "__notebook__.ipynb",
   "output_path": "__notebook__.ipynb",
   "parameters": {},
   "start_time": "2022-11-22T02:40:49.323767",
   "version": "2.3.4"
  }
 },
 "nbformat": 4,
 "nbformat_minor": 5
}
