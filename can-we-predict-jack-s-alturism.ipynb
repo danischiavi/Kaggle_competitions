{
 "cells": [
  {
   "cell_type": "code",
   "execution_count": 1,
   "id": "79c47176",
   "metadata": {
    "_cell_guid": "b1076dfc-b9ad-4769-8c92-a6c4dae69d19",
    "_uuid": "8f2839f25d086af736a60e9eeb907d3b93b6e0e5",
    "execution": {
     "iopub.execute_input": "2022-11-24T04:17:37.076308Z",
     "iopub.status.busy": "2022-11-24T04:17:37.075840Z",
     "iopub.status.idle": "2022-11-24T04:17:38.216367Z",
     "shell.execute_reply": "2022-11-24T04:17:38.215105Z"
    },
    "papermill": {
     "duration": 1.154477,
     "end_time": "2022-11-24T04:17:38.220470",
     "exception": false,
     "start_time": "2022-11-24T04:17:37.065993",
     "status": "completed"
    },
    "tags": []
   },
   "outputs": [
    {
     "name": "stdout",
     "output_type": "stream",
     "text": [
      "/kaggle/input/titanic/train.csv\n",
      "/kaggle/input/titanic/test.csv\n",
      "/kaggle/input/titanic/gender_submission.csv\n"
     ]
    }
   ],
   "source": [
    "import numpy as np # linear algebra\n",
    "import pandas as pd # data processing, CSV file I/O (e.g. pd.read_csv)\n",
    "pd.plotting.register_matplotlib_converters()\n",
    "import matplotlib.pyplot as plt\n",
    "%matplotlib inline \n",
    "import seaborn as sns #library for visualization\n",
    "\n",
    "import os\n",
    "for dirname, _, filenames in os.walk('/kaggle/input'):\n",
    "    for filename in filenames:\n",
    "        print(os.path.join(dirname, filename))"
   ]
  },
  {
   "cell_type": "code",
   "execution_count": 2,
   "id": "2736d8c8",
   "metadata": {
    "execution": {
     "iopub.execute_input": "2022-11-24T04:17:38.236448Z",
     "iopub.status.busy": "2022-11-24T04:17:38.235834Z",
     "iopub.status.idle": "2022-11-24T04:17:38.289246Z",
     "shell.execute_reply": "2022-11-24T04:17:38.288163Z"
    },
    "papermill": {
     "duration": 0.063921,
     "end_time": "2022-11-24T04:17:38.291616",
     "exception": false,
     "start_time": "2022-11-24T04:17:38.227695",
     "status": "completed"
    },
    "tags": []
   },
   "outputs": [
    {
     "data": {
      "text/html": [
       "<div>\n",
       "<style scoped>\n",
       "    .dataframe tbody tr th:only-of-type {\n",
       "        vertical-align: middle;\n",
       "    }\n",
       "\n",
       "    .dataframe tbody tr th {\n",
       "        vertical-align: top;\n",
       "    }\n",
       "\n",
       "    .dataframe thead th {\n",
       "        text-align: right;\n",
       "    }\n",
       "</style>\n",
       "<table border=\"1\" class=\"dataframe\">\n",
       "  <thead>\n",
       "    <tr style=\"text-align: right;\">\n",
       "      <th></th>\n",
       "      <th>PassengerId</th>\n",
       "      <th>Survived</th>\n",
       "      <th>Pclass</th>\n",
       "      <th>Name</th>\n",
       "      <th>Sex</th>\n",
       "      <th>Age</th>\n",
       "      <th>SibSp</th>\n",
       "      <th>Parch</th>\n",
       "      <th>Ticket</th>\n",
       "      <th>Fare</th>\n",
       "      <th>Cabin</th>\n",
       "      <th>Embarked</th>\n",
       "    </tr>\n",
       "  </thead>\n",
       "  <tbody>\n",
       "    <tr>\n",
       "      <th>0</th>\n",
       "      <td>1</td>\n",
       "      <td>0</td>\n",
       "      <td>3</td>\n",
       "      <td>Braund, Mr. Owen Harris</td>\n",
       "      <td>male</td>\n",
       "      <td>22.0</td>\n",
       "      <td>1</td>\n",
       "      <td>0</td>\n",
       "      <td>A/5 21171</td>\n",
       "      <td>7.2500</td>\n",
       "      <td>NaN</td>\n",
       "      <td>S</td>\n",
       "    </tr>\n",
       "    <tr>\n",
       "      <th>1</th>\n",
       "      <td>2</td>\n",
       "      <td>1</td>\n",
       "      <td>1</td>\n",
       "      <td>Cumings, Mrs. John Bradley (Florence Briggs Th...</td>\n",
       "      <td>female</td>\n",
       "      <td>38.0</td>\n",
       "      <td>1</td>\n",
       "      <td>0</td>\n",
       "      <td>PC 17599</td>\n",
       "      <td>71.2833</td>\n",
       "      <td>C85</td>\n",
       "      <td>C</td>\n",
       "    </tr>\n",
       "    <tr>\n",
       "      <th>2</th>\n",
       "      <td>3</td>\n",
       "      <td>1</td>\n",
       "      <td>3</td>\n",
       "      <td>Heikkinen, Miss. Laina</td>\n",
       "      <td>female</td>\n",
       "      <td>26.0</td>\n",
       "      <td>0</td>\n",
       "      <td>0</td>\n",
       "      <td>STON/O2. 3101282</td>\n",
       "      <td>7.9250</td>\n",
       "      <td>NaN</td>\n",
       "      <td>S</td>\n",
       "    </tr>\n",
       "    <tr>\n",
       "      <th>3</th>\n",
       "      <td>4</td>\n",
       "      <td>1</td>\n",
       "      <td>1</td>\n",
       "      <td>Futrelle, Mrs. Jacques Heath (Lily May Peel)</td>\n",
       "      <td>female</td>\n",
       "      <td>35.0</td>\n",
       "      <td>1</td>\n",
       "      <td>0</td>\n",
       "      <td>113803</td>\n",
       "      <td>53.1000</td>\n",
       "      <td>C123</td>\n",
       "      <td>S</td>\n",
       "    </tr>\n",
       "    <tr>\n",
       "      <th>4</th>\n",
       "      <td>5</td>\n",
       "      <td>0</td>\n",
       "      <td>3</td>\n",
       "      <td>Allen, Mr. William Henry</td>\n",
       "      <td>male</td>\n",
       "      <td>35.0</td>\n",
       "      <td>0</td>\n",
       "      <td>0</td>\n",
       "      <td>373450</td>\n",
       "      <td>8.0500</td>\n",
       "      <td>NaN</td>\n",
       "      <td>S</td>\n",
       "    </tr>\n",
       "  </tbody>\n",
       "</table>\n",
       "</div>"
      ],
      "text/plain": [
       "   PassengerId  Survived  Pclass  \\\n",
       "0            1         0       3   \n",
       "1            2         1       1   \n",
       "2            3         1       3   \n",
       "3            4         1       1   \n",
       "4            5         0       3   \n",
       "\n",
       "                                                Name     Sex   Age  SibSp  \\\n",
       "0                            Braund, Mr. Owen Harris    male  22.0      1   \n",
       "1  Cumings, Mrs. John Bradley (Florence Briggs Th...  female  38.0      1   \n",
       "2                             Heikkinen, Miss. Laina  female  26.0      0   \n",
       "3       Futrelle, Mrs. Jacques Heath (Lily May Peel)  female  35.0      1   \n",
       "4                           Allen, Mr. William Henry    male  35.0      0   \n",
       "\n",
       "   Parch            Ticket     Fare Cabin Embarked  \n",
       "0      0         A/5 21171   7.2500   NaN        S  \n",
       "1      0          PC 17599  71.2833   C85        C  \n",
       "2      0  STON/O2. 3101282   7.9250   NaN        S  \n",
       "3      0            113803  53.1000  C123        S  \n",
       "4      0            373450   8.0500   NaN        S  "
      ]
     },
     "execution_count": 2,
     "metadata": {},
     "output_type": "execute_result"
    }
   ],
   "source": [
    "full_data = pd.read_csv(\"/kaggle/input/titanic/train.csv\") #Load training data\n",
    "full_data.head() \n"
   ]
  },
  {
   "cell_type": "code",
   "execution_count": 3,
   "id": "8afc3470",
   "metadata": {
    "execution": {
     "iopub.execute_input": "2022-11-24T04:17:38.309359Z",
     "iopub.status.busy": "2022-11-24T04:17:38.308858Z",
     "iopub.status.idle": "2022-11-24T04:17:38.339503Z",
     "shell.execute_reply": "2022-11-24T04:17:38.338562Z"
    },
    "papermill": {
     "duration": 0.041753,
     "end_time": "2022-11-24T04:17:38.342104",
     "exception": false,
     "start_time": "2022-11-24T04:17:38.300351",
     "status": "completed"
    },
    "tags": []
   },
   "outputs": [
    {
     "data": {
      "text/html": [
       "<div>\n",
       "<style scoped>\n",
       "    .dataframe tbody tr th:only-of-type {\n",
       "        vertical-align: middle;\n",
       "    }\n",
       "\n",
       "    .dataframe tbody tr th {\n",
       "        vertical-align: top;\n",
       "    }\n",
       "\n",
       "    .dataframe thead th {\n",
       "        text-align: right;\n",
       "    }\n",
       "</style>\n",
       "<table border=\"1\" class=\"dataframe\">\n",
       "  <thead>\n",
       "    <tr style=\"text-align: right;\">\n",
       "      <th></th>\n",
       "      <th>PassengerId</th>\n",
       "      <th>Pclass</th>\n",
       "      <th>Name</th>\n",
       "      <th>Sex</th>\n",
       "      <th>Age</th>\n",
       "      <th>SibSp</th>\n",
       "      <th>Parch</th>\n",
       "      <th>Ticket</th>\n",
       "      <th>Fare</th>\n",
       "      <th>Cabin</th>\n",
       "      <th>Embarked</th>\n",
       "    </tr>\n",
       "  </thead>\n",
       "  <tbody>\n",
       "    <tr>\n",
       "      <th>0</th>\n",
       "      <td>892</td>\n",
       "      <td>3</td>\n",
       "      <td>Kelly, Mr. James</td>\n",
       "      <td>male</td>\n",
       "      <td>34.5</td>\n",
       "      <td>0</td>\n",
       "      <td>0</td>\n",
       "      <td>330911</td>\n",
       "      <td>7.8292</td>\n",
       "      <td>NaN</td>\n",
       "      <td>Q</td>\n",
       "    </tr>\n",
       "    <tr>\n",
       "      <th>1</th>\n",
       "      <td>893</td>\n",
       "      <td>3</td>\n",
       "      <td>Wilkes, Mrs. James (Ellen Needs)</td>\n",
       "      <td>female</td>\n",
       "      <td>47.0</td>\n",
       "      <td>1</td>\n",
       "      <td>0</td>\n",
       "      <td>363272</td>\n",
       "      <td>7.0000</td>\n",
       "      <td>NaN</td>\n",
       "      <td>S</td>\n",
       "    </tr>\n",
       "    <tr>\n",
       "      <th>2</th>\n",
       "      <td>894</td>\n",
       "      <td>2</td>\n",
       "      <td>Myles, Mr. Thomas Francis</td>\n",
       "      <td>male</td>\n",
       "      <td>62.0</td>\n",
       "      <td>0</td>\n",
       "      <td>0</td>\n",
       "      <td>240276</td>\n",
       "      <td>9.6875</td>\n",
       "      <td>NaN</td>\n",
       "      <td>Q</td>\n",
       "    </tr>\n",
       "    <tr>\n",
       "      <th>3</th>\n",
       "      <td>895</td>\n",
       "      <td>3</td>\n",
       "      <td>Wirz, Mr. Albert</td>\n",
       "      <td>male</td>\n",
       "      <td>27.0</td>\n",
       "      <td>0</td>\n",
       "      <td>0</td>\n",
       "      <td>315154</td>\n",
       "      <td>8.6625</td>\n",
       "      <td>NaN</td>\n",
       "      <td>S</td>\n",
       "    </tr>\n",
       "    <tr>\n",
       "      <th>4</th>\n",
       "      <td>896</td>\n",
       "      <td>3</td>\n",
       "      <td>Hirvonen, Mrs. Alexander (Helga E Lindqvist)</td>\n",
       "      <td>female</td>\n",
       "      <td>22.0</td>\n",
       "      <td>1</td>\n",
       "      <td>1</td>\n",
       "      <td>3101298</td>\n",
       "      <td>12.2875</td>\n",
       "      <td>NaN</td>\n",
       "      <td>S</td>\n",
       "    </tr>\n",
       "  </tbody>\n",
       "</table>\n",
       "</div>"
      ],
      "text/plain": [
       "   PassengerId  Pclass                                          Name     Sex  \\\n",
       "0          892       3                              Kelly, Mr. James    male   \n",
       "1          893       3              Wilkes, Mrs. James (Ellen Needs)  female   \n",
       "2          894       2                     Myles, Mr. Thomas Francis    male   \n",
       "3          895       3                              Wirz, Mr. Albert    male   \n",
       "4          896       3  Hirvonen, Mrs. Alexander (Helga E Lindqvist)  female   \n",
       "\n",
       "    Age  SibSp  Parch   Ticket     Fare Cabin Embarked  \n",
       "0  34.5      0      0   330911   7.8292   NaN        Q  \n",
       "1  47.0      1      0   363272   7.0000   NaN        S  \n",
       "2  62.0      0      0   240276   9.6875   NaN        Q  \n",
       "3  27.0      0      0   315154   8.6625   NaN        S  \n",
       "4  22.0      1      1  3101298  12.2875   NaN        S  "
      ]
     },
     "execution_count": 3,
     "metadata": {},
     "output_type": "execute_result"
    }
   ],
   "source": [
    "prediction_data = pd.read_csv(\"/kaggle/input/titanic/test.csv\")  #Load test data -> Survived column is missing because is what I have to predict\n",
    "prediction_data.head()"
   ]
  },
  {
   "cell_type": "code",
   "execution_count": 4,
   "id": "fc5fa1f9",
   "metadata": {
    "execution": {
     "iopub.execute_input": "2022-11-24T04:17:38.360151Z",
     "iopub.status.busy": "2022-11-24T04:17:38.359700Z",
     "iopub.status.idle": "2022-11-24T04:17:38.406005Z",
     "shell.execute_reply": "2022-11-24T04:17:38.404491Z"
    },
    "papermill": {
     "duration": 0.058759,
     "end_time": "2022-11-24T04:17:38.408703",
     "exception": false,
     "start_time": "2022-11-24T04:17:38.349944",
     "status": "completed"
    },
    "tags": []
   },
   "outputs": [
    {
     "data": {
      "text/html": [
       "<div>\n",
       "<style scoped>\n",
       "    .dataframe tbody tr th:only-of-type {\n",
       "        vertical-align: middle;\n",
       "    }\n",
       "\n",
       "    .dataframe tbody tr th {\n",
       "        vertical-align: top;\n",
       "    }\n",
       "\n",
       "    .dataframe thead th {\n",
       "        text-align: right;\n",
       "    }\n",
       "</style>\n",
       "<table border=\"1\" class=\"dataframe\">\n",
       "  <thead>\n",
       "    <tr style=\"text-align: right;\">\n",
       "      <th></th>\n",
       "      <th>PassengerId</th>\n",
       "      <th>Survived</th>\n",
       "      <th>Pclass</th>\n",
       "      <th>Age</th>\n",
       "      <th>SibSp</th>\n",
       "      <th>Parch</th>\n",
       "      <th>Fare</th>\n",
       "    </tr>\n",
       "  </thead>\n",
       "  <tbody>\n",
       "    <tr>\n",
       "      <th>count</th>\n",
       "      <td>891.000000</td>\n",
       "      <td>891.000000</td>\n",
       "      <td>891.000000</td>\n",
       "      <td>714.000000</td>\n",
       "      <td>891.000000</td>\n",
       "      <td>891.000000</td>\n",
       "      <td>891.000000</td>\n",
       "    </tr>\n",
       "    <tr>\n",
       "      <th>mean</th>\n",
       "      <td>446.000000</td>\n",
       "      <td>0.383838</td>\n",
       "      <td>2.308642</td>\n",
       "      <td>29.699118</td>\n",
       "      <td>0.523008</td>\n",
       "      <td>0.381594</td>\n",
       "      <td>32.204208</td>\n",
       "    </tr>\n",
       "    <tr>\n",
       "      <th>std</th>\n",
       "      <td>257.353842</td>\n",
       "      <td>0.486592</td>\n",
       "      <td>0.836071</td>\n",
       "      <td>14.526497</td>\n",
       "      <td>1.102743</td>\n",
       "      <td>0.806057</td>\n",
       "      <td>49.693429</td>\n",
       "    </tr>\n",
       "    <tr>\n",
       "      <th>min</th>\n",
       "      <td>1.000000</td>\n",
       "      <td>0.000000</td>\n",
       "      <td>1.000000</td>\n",
       "      <td>0.420000</td>\n",
       "      <td>0.000000</td>\n",
       "      <td>0.000000</td>\n",
       "      <td>0.000000</td>\n",
       "    </tr>\n",
       "    <tr>\n",
       "      <th>25%</th>\n",
       "      <td>223.500000</td>\n",
       "      <td>0.000000</td>\n",
       "      <td>2.000000</td>\n",
       "      <td>20.125000</td>\n",
       "      <td>0.000000</td>\n",
       "      <td>0.000000</td>\n",
       "      <td>7.910400</td>\n",
       "    </tr>\n",
       "    <tr>\n",
       "      <th>50%</th>\n",
       "      <td>446.000000</td>\n",
       "      <td>0.000000</td>\n",
       "      <td>3.000000</td>\n",
       "      <td>28.000000</td>\n",
       "      <td>0.000000</td>\n",
       "      <td>0.000000</td>\n",
       "      <td>14.454200</td>\n",
       "    </tr>\n",
       "    <tr>\n",
       "      <th>75%</th>\n",
       "      <td>668.500000</td>\n",
       "      <td>1.000000</td>\n",
       "      <td>3.000000</td>\n",
       "      <td>38.000000</td>\n",
       "      <td>1.000000</td>\n",
       "      <td>0.000000</td>\n",
       "      <td>31.000000</td>\n",
       "    </tr>\n",
       "    <tr>\n",
       "      <th>max</th>\n",
       "      <td>891.000000</td>\n",
       "      <td>1.000000</td>\n",
       "      <td>3.000000</td>\n",
       "      <td>80.000000</td>\n",
       "      <td>8.000000</td>\n",
       "      <td>6.000000</td>\n",
       "      <td>512.329200</td>\n",
       "    </tr>\n",
       "  </tbody>\n",
       "</table>\n",
       "</div>"
      ],
      "text/plain": [
       "       PassengerId    Survived      Pclass         Age       SibSp  \\\n",
       "count   891.000000  891.000000  891.000000  714.000000  891.000000   \n",
       "mean    446.000000    0.383838    2.308642   29.699118    0.523008   \n",
       "std     257.353842    0.486592    0.836071   14.526497    1.102743   \n",
       "min       1.000000    0.000000    1.000000    0.420000    0.000000   \n",
       "25%     223.500000    0.000000    2.000000   20.125000    0.000000   \n",
       "50%     446.000000    0.000000    3.000000   28.000000    0.000000   \n",
       "75%     668.500000    1.000000    3.000000   38.000000    1.000000   \n",
       "max     891.000000    1.000000    3.000000   80.000000    8.000000   \n",
       "\n",
       "            Parch        Fare  \n",
       "count  891.000000  891.000000  \n",
       "mean     0.381594   32.204208  \n",
       "std      0.806057   49.693429  \n",
       "min      0.000000    0.000000  \n",
       "25%      0.000000    7.910400  \n",
       "50%      0.000000   14.454200  \n",
       "75%      0.000000   31.000000  \n",
       "max      6.000000  512.329200  "
      ]
     },
     "execution_count": 4,
     "metadata": {},
     "output_type": "execute_result"
    }
   ],
   "source": [
    "full_data.describe()"
   ]
  },
  {
   "cell_type": "code",
   "execution_count": 5,
   "id": "3a198b7c",
   "metadata": {
    "execution": {
     "iopub.execute_input": "2022-11-24T04:17:38.433098Z",
     "iopub.status.busy": "2022-11-24T04:17:38.432139Z",
     "iopub.status.idle": "2022-11-24T04:17:38.795614Z",
     "shell.execute_reply": "2022-11-24T04:17:38.794667Z"
    },
    "papermill": {
     "duration": 0.377068,
     "end_time": "2022-11-24T04:17:38.798359",
     "exception": false,
     "start_time": "2022-11-24T04:17:38.421291",
     "status": "completed"
    },
    "tags": []
   },
   "outputs": [
    {
     "data": {
      "text/plain": [
       "<AxesSubplot:xlabel='Pclass', ylabel='Survived'>"
      ]
     },
     "execution_count": 5,
     "metadata": {},
     "output_type": "execute_result"
    },
    {
     "data": {
      "image/png": "[encoded data removed]",
      "text/plain": [
       "<Figure size 432x288 with 1 Axes>"
      ]
     },
     "metadata": {
      "needs_background": "light"
     },
     "output_type": "display_data"
    }
   ],
   "source": [
    "#Data analisis with visualization\n",
    "\n",
    "sns.barplot(x=full_data['Pclass'], y=full_data['Survived'])"
   ]
  },
  {
   "cell_type": "markdown",
   "id": "af2f10d6",
   "metadata": {
    "papermill": {
     "duration": 0.00802,
     "end_time": "2022-11-24T04:17:38.814306",
     "exception": false,
     "start_time": "2022-11-24T04:17:38.806286",
     "status": "completed"
    },
    "tags": []
   },
   "source": [
    "Graph shows marked relationship between Pclass and survival rate: Higher class, more chances to survive --> Good feature for model"
   ]
  },
  {
   "cell_type": "code",
   "execution_count": 6,
   "id": "48a64e92",
   "metadata": {
    "execution": {
     "iopub.execute_input": "2022-11-24T04:17:38.834759Z",
     "iopub.status.busy": "2022-11-24T04:17:38.833438Z",
     "iopub.status.idle": "2022-11-24T04:17:39.107947Z",
     "shell.execute_reply": "2022-11-24T04:17:39.106562Z"
    },
    "papermill": {
     "duration": 0.288738,
     "end_time": "2022-11-24T04:17:39.110917",
     "exception": false,
     "start_time": "2022-11-24T04:17:38.822179",
     "status": "completed"
    },
    "tags": []
   },
   "outputs": [
    {
     "data": {
      "text/plain": [
       "<AxesSubplot:xlabel='Sex', ylabel='Survived'>"
      ]
     },
     "execution_count": 6,
     "metadata": {},
     "output_type": "execute_result"
    },
    {
     "data": {
      "image/png": "[encoded data removed]",
      "text/plain": [
       "<Figure size 432x288 with 1 Axes>"
      ]
     },
     "metadata": {
      "needs_background": "light"
     },
     "output_type": "display_data"
    }
   ],
   "source": [
    "sns.barplot(x=full_data['Sex'], y=full_data['Survived'])"
   ]
  },
  {
   "cell_type": "markdown",
   "id": "46577bdc",
   "metadata": {
    "papermill": {
     "duration": 0.007722,
     "end_time": "2022-11-24T04:17:39.126918",
     "exception": false,
     "start_time": "2022-11-24T04:17:39.119196",
     "status": "completed"
    },
    "tags": []
   },
   "source": [
    "Graph shows marked relationship between Pclass and survival rate: females have more chances to survive --> Good feature for model"
   ]
  },
  {
   "cell_type": "code",
   "execution_count": 7,
   "id": "b5a73eb6",
   "metadata": {
    "execution": {
     "iopub.execute_input": "2022-11-24T04:17:39.147810Z",
     "iopub.status.busy": "2022-11-24T04:17:39.147311Z",
     "iopub.status.idle": "2022-11-24T04:17:39.462390Z",
     "shell.execute_reply": "2022-11-24T04:17:39.461250Z"
    },
    "papermill": {
     "duration": 0.327913,
     "end_time": "2022-11-24T04:17:39.464905",
     "exception": false,
     "start_time": "2022-11-24T04:17:39.136992",
     "status": "completed"
    },
    "tags": []
   },
   "outputs": [
    {
     "data": {
      "text/plain": [
       "<AxesSubplot:xlabel='Age', ylabel='Count'>"
      ]
     },
     "execution_count": 7,
     "metadata": {},
     "output_type": "execute_result"
    },
    {
     "data": {
      "image/png": "[encoded data removed]",
      "text/plain": [
       "<Figure size 432x288 with 1 Axes>"
      ]
     },
     "metadata": {
      "needs_background": "light"
     },
     "output_type": "display_data"
    }
   ],
   "source": [
    "sns.histplot(data=full_data, x='Age')"
   ]
  },
  {
   "cell_type": "code",
   "execution_count": 8,
   "id": "d314db62",
   "metadata": {
    "execution": {
     "iopub.execute_input": "2022-11-24T04:17:39.483228Z",
     "iopub.status.busy": "2022-11-24T04:17:39.482796Z",
     "iopub.status.idle": "2022-11-24T04:17:39.859495Z",
     "shell.execute_reply": "2022-11-24T04:17:39.858285Z"
    },
    "papermill": {
     "duration": 0.389133,
     "end_time": "2022-11-24T04:17:39.862285",
     "exception": false,
     "start_time": "2022-11-24T04:17:39.473152",
     "status": "completed"
    },
    "tags": []
   },
   "outputs": [
    {
     "data": {
      "text/plain": [
       "<AxesSubplot:xlabel='Age', ylabel='Count'>"
      ]
     },
     "execution_count": 8,
     "metadata": {},
     "output_type": "execute_result"
    },
    {
     "data": {
      "image/png": "[encoded data removed]",
      "text/plain": [
       "<Figure size 432x288 with 1 Axes>"
      ]
     },
     "metadata": {
      "needs_background": "light"
     },
     "output_type": "display_data"
    }
   ],
   "source": [
    "sns.histplot(data=full_data, x='Age', hue='Survived')"
   ]
  },
  {
   "cell_type": "markdown",
   "id": "25918344",
   "metadata": {
    "papermill": {
     "duration": 0.00861,
     "end_time": "2022-11-24T04:17:39.879847",
     "exception": false,
     "start_time": "2022-11-24T04:17:39.871237",
     "status": "completed"
    },
    "tags": []
   },
   "source": [
    "Graph shows distribution of age for survived and not-survived group. Survived group has more counts for children than not-survived. -->Good feature for model"
   ]
  },
  {
   "cell_type": "code",
   "execution_count": 9,
   "id": "23302a9c",
   "metadata": {
    "execution": {
     "iopub.execute_input": "2022-11-24T04:17:39.899615Z",
     "iopub.status.busy": "2022-11-24T04:17:39.899131Z",
     "iopub.status.idle": "2022-11-24T04:17:40.313521Z",
     "shell.execute_reply": "2022-11-24T04:17:40.312126Z"
    },
    "papermill": {
     "duration": 0.427663,
     "end_time": "2022-11-24T04:17:40.316241",
     "exception": false,
     "start_time": "2022-11-24T04:17:39.888578",
     "status": "completed"
    },
    "tags": []
   },
   "outputs": [
    {
     "data": {
      "text/plain": [
       "<AxesSubplot:xlabel='SibSp', ylabel='Survived'>"
      ]
     },
     "execution_count": 9,
     "metadata": {},
     "output_type": "execute_result"
    },
    {
     "data": {
      "image/png": "[encoded data removed]",
      "text/plain": [
       "<Figure size 432x288 with 1 Axes>"
      ]
     },
     "metadata": {
      "needs_background": "light"
     },
     "output_type": "display_data"
    }
   ],
   "source": [
    "sns.barplot(x=full_data['SibSp'], y=full_data['Survived'])\n"
   ]
  },
  {
   "cell_type": "code",
   "execution_count": 10,
   "id": "78ff31d9",
   "metadata": {
    "execution": {
     "iopub.execute_input": "2022-11-24T04:17:40.337236Z",
     "iopub.status.busy": "2022-11-24T04:17:40.336393Z",
     "iopub.status.idle": "2022-11-24T04:17:40.727339Z",
     "shell.execute_reply": "2022-11-24T04:17:40.726123Z"
    },
    "papermill": {
     "duration": 0.404515,
     "end_time": "2022-11-24T04:17:40.730018",
     "exception": false,
     "start_time": "2022-11-24T04:17:40.325503",
     "status": "completed"
    },
    "tags": []
   },
   "outputs": [
    {
     "data": {
      "text/plain": [
       "<AxesSubplot:xlabel='Parch', ylabel='Survived'>"
      ]
     },
     "execution_count": 10,
     "metadata": {},
     "output_type": "execute_result"
    },
    {
     "data": {
      "image/png": "[encoded data removed]",
      "text/plain": [
       "<Figure size 432x288 with 1 Axes>"
      ]
     },
     "metadata": {
      "needs_background": "light"
     },
     "output_type": "display_data"
    }
   ],
   "source": [
    "sns.barplot(x=full_data['Parch'], y=full_data['Survived'])"
   ]
  },
  {
   "cell_type": "markdown",
   "id": "84eef0dc",
   "metadata": {
    "papermill": {
     "duration": 0.009371,
     "end_time": "2022-11-24T04:17:40.749172",
     "exception": false,
     "start_time": "2022-11-24T04:17:40.739801",
     "status": "completed"
    },
    "tags": []
   },
   "source": [
    "Because SibSp and Parch are highly correlated, it'd be better to merge them on a single feature: SoloTravel"
   ]
  },
  {
   "cell_type": "code",
   "execution_count": 11,
   "id": "b94de90f",
   "metadata": {
    "execution": {
     "iopub.execute_input": "2022-11-24T04:17:40.770924Z",
     "iopub.status.busy": "2022-11-24T04:17:40.769504Z",
     "iopub.status.idle": "2022-11-24T04:17:40.780000Z",
     "shell.execute_reply": "2022-11-24T04:17:40.778768Z"
    },
    "papermill": {
     "duration": 0.024077,
     "end_time": "2022-11-24T04:17:40.782549",
     "exception": false,
     "start_time": "2022-11-24T04:17:40.758472",
     "status": "completed"
    },
    "tags": []
   },
   "outputs": [],
   "source": [
    "full_data['SoloTravel'] = np.where((full_data['SibSp'] + full_data['Parch'])>0,0,1) #numpy.where(condition, [x, y, ]/)\n",
    "prediction_data['SoloTravel'] = np.where((prediction_data['SibSp'] + prediction_data['Parch'])>0,0,1)"
   ]
  },
  {
   "cell_type": "code",
   "execution_count": 12,
   "id": "37b1d842",
   "metadata": {
    "execution": {
     "iopub.execute_input": "2022-11-24T04:17:40.804225Z",
     "iopub.status.busy": "2022-11-24T04:17:40.803766Z",
     "iopub.status.idle": "2022-11-24T04:17:46.407477Z",
     "shell.execute_reply": "2022-11-24T04:17:46.406088Z"
    },
    "papermill": {
     "duration": 5.617619,
     "end_time": "2022-11-24T04:17:46.410287",
     "exception": false,
     "start_time": "2022-11-24T04:17:40.792668",
     "status": "completed"
    },
    "tags": []
   },
   "outputs": [
    {
     "name": "stderr",
     "output_type": "stream",
     "text": [
      "/opt/conda/lib/python3.7/site-packages/seaborn/categorical.py:1296: UserWarning: 72.3% of the points cannot be placed; you may want to decrease the size of the markers or use stripplot.\n",
      "  warnings.warn(msg, UserWarning)\n",
      "/opt/conda/lib/python3.7/site-packages/seaborn/categorical.py:1296: UserWarning: 46.5% of the points cannot be placed; you may want to decrease the size of the markers or use stripplot.\n",
      "  warnings.warn(msg, UserWarning)\n"
     ]
    },
    {
     "data": {
      "text/plain": [
       "<AxesSubplot:xlabel='Survived', ylabel='Fare'>"
      ]
     },
     "execution_count": 12,
     "metadata": {},
     "output_type": "execute_result"
    },
    {
     "data": {
      "image/png": "[encoded data removed]",
      "text/plain": [
       "<Figure size 432x288 with 1 Axes>"
      ]
     },
     "metadata": {
      "needs_background": "light"
     },
     "output_type": "display_data"
    }
   ],
   "source": [
    "sns.swarmplot(x=full_data['Survived'], y=full_data['Fare'])"
   ]
  },
  {
   "cell_type": "markdown",
   "id": "8e4cf990",
   "metadata": {
    "papermill": {
     "duration": 0.009952,
     "end_time": "2022-11-24T04:17:46.430699",
     "exception": false,
     "start_time": "2022-11-24T04:17:46.420747",
     "status": "completed"
    },
    "tags": []
   },
   "source": [
    "There isn't evident relationship between fare and survived --> Feature not good for model "
   ]
  },
  {
   "cell_type": "code",
   "execution_count": 13,
   "id": "6c8624c4",
   "metadata": {
    "execution": {
     "iopub.execute_input": "2022-11-24T04:17:46.453243Z",
     "iopub.status.busy": "2022-11-24T04:17:46.452811Z",
     "iopub.status.idle": "2022-11-24T04:17:46.759031Z",
     "shell.execute_reply": "2022-11-24T04:17:46.757768Z"
    },
    "papermill": {
     "duration": 0.320601,
     "end_time": "2022-11-24T04:17:46.761692",
     "exception": false,
     "start_time": "2022-11-24T04:17:46.441091",
     "status": "completed"
    },
    "tags": []
   },
   "outputs": [
    {
     "data": {
      "text/plain": [
       "<AxesSubplot:xlabel='Embarked', ylabel='Survived'>"
      ]
     },
     "execution_count": 13,
     "metadata": {},
     "output_type": "execute_result"
    },
    {
     "data": {
      "image/png": "[encoded data removed]",
      "text/plain": [
       "<Figure size 432x288 with 1 Axes>"
      ]
     },
     "metadata": {
      "needs_background": "light"
     },
     "output_type": "display_data"
    }
   ],
   "source": [
    "sns.barplot(x=full_data['Embarked'], y=full_data['Survived'])"
   ]
  },
  {
   "cell_type": "markdown",
   "id": "a3edc514",
   "metadata": {
    "papermill": {
     "duration": 0.009981,
     "end_time": "2022-11-24T04:17:46.782729",
     "exception": false,
     "start_time": "2022-11-24T04:17:46.772748",
     "status": "completed"
    },
    "tags": []
   },
   "source": [
    "Relationship between survival and port of embarcation is similar between the 3 of them --> Feature not good for model."
   ]
  },
  {
   "cell_type": "code",
   "execution_count": 14,
   "id": "013acb7d",
   "metadata": {
    "execution": {
     "iopub.execute_input": "2022-11-24T04:17:46.805951Z",
     "iopub.status.busy": "2022-11-24T04:17:46.805354Z",
     "iopub.status.idle": "2022-11-24T04:17:47.245048Z",
     "shell.execute_reply": "2022-11-24T04:17:47.243912Z"
    },
    "papermill": {
     "duration": 0.45496,
     "end_time": "2022-11-24T04:17:47.248049",
     "exception": false,
     "start_time": "2022-11-24T04:17:46.793089",
     "status": "completed"
    },
    "tags": []
   },
   "outputs": [],
   "source": [
    "from sklearn.ensemble import RandomForestClassifier  #sklearn.ensemble is a module which contains the class RandomForestClassifier is\n",
    "from sklearn.impute import SimpleImputer\n",
    "\n",
    "y = full_data[\"Survived\"]\n",
    "\n",
    "features = [\"Pclass\", \"Sex\", \"Age\", \"SoloTravel\"]\n",
    "X_missing_values = pd.get_dummies(full_data[features])  #converts categorical variable into dummy: Ex for Sex: 2 columns -> Sex_male \\ Sex_female using 1 or 0 to fill them\n",
    "X_prediction_missing_values = pd.get_dummies(prediction_data[features])\n"
   ]
  },
  {
   "cell_type": "code",
   "execution_count": 15,
   "id": "cf4f2593",
   "metadata": {
    "execution": {
     "iopub.execute_input": "2022-11-24T04:17:47.271810Z",
     "iopub.status.busy": "2022-11-24T04:17:47.271018Z",
     "iopub.status.idle": "2022-11-24T04:17:47.286296Z",
     "shell.execute_reply": "2022-11-24T04:17:47.285263Z"
    },
    "papermill": {
     "duration": 0.029968,
     "end_time": "2022-11-24T04:17:47.288872",
     "exception": false,
     "start_time": "2022-11-24T04:17:47.258904",
     "status": "completed"
    },
    "tags": []
   },
   "outputs": [],
   "source": [
    "my_imputer = SimpleImputer(strategy = 'median')   #Age has missing values --> Try SimpleImputer(). Error if one of the variables are categorical -> first get_dummy and then missing values.\n",
    "X = pd.DataFrame(my_imputer.fit_transform(X_missing_values))\n",
    "X_prediction = pd.DataFrame(my_imputer.transform(X_prediction_missing_values))\n",
    "\n",
    "X.columns = X_missing_values.columns   #Imputation removes columns' names; put them back\n",
    "X_prediction.columns = X_prediction_missing_values.columns"
   ]
  },
  {
   "cell_type": "code",
   "execution_count": 16,
   "id": "b7d65a2e",
   "metadata": {
    "execution": {
     "iopub.execute_input": "2022-11-24T04:17:47.312340Z",
     "iopub.status.busy": "2022-11-24T04:17:47.311454Z",
     "iopub.status.idle": "2022-11-24T04:17:47.320041Z",
     "shell.execute_reply": "2022-11-24T04:17:47.318923Z"
    },
    "papermill": {
     "duration": 0.023105,
     "end_time": "2022-11-24T04:17:47.322585",
     "exception": false,
     "start_time": "2022-11-24T04:17:47.299480",
     "status": "completed"
    },
    "tags": []
   },
   "outputs": [],
   "source": [
    "from sklearn.model_selection import train_test_split\n",
    "\n",
    "train_X, test_X, train_y, test_y = train_test_split(X, y, random_state=0)"
   ]
  },
  {
   "cell_type": "code",
   "execution_count": 17,
   "id": "cbcd65cd",
   "metadata": {
    "execution": {
     "iopub.execute_input": "2022-11-24T04:17:47.346315Z",
     "iopub.status.busy": "2022-11-24T04:17:47.345455Z",
     "iopub.status.idle": "2022-11-24T04:17:47.352824Z",
     "shell.execute_reply": "2022-11-24T04:17:47.351662Z"
    },
    "papermill": {
     "duration": 0.022116,
     "end_time": "2022-11-24T04:17:47.355359",
     "exception": false,
     "start_time": "2022-11-24T04:17:47.333243",
     "status": "completed"
    },
    "tags": []
   },
   "outputs": [],
   "source": [
    "from sklearn.metrics import mean_absolute_error\n",
    "\n",
    "def my_mae(n_estimators, max_depth, train_X, test_X, train_y, test_y):\n",
    "    model_tuning = RandomForestClassifier(n_estimators=n_estimators, max_depth=max_depth, random_state=0)\n",
    "    model_tuning.fit(train_X, train_y)\n",
    "    predictions_tuning = model_tuning.predict(test_X)\n",
    "    MAE = mean_absolute_error(test_y, predictions_tuning)\n",
    "    return(MAE)"
   ]
  },
  {
   "cell_type": "code",
   "execution_count": 18,
   "id": "0240a751",
   "metadata": {
    "execution": {
     "iopub.execute_input": "2022-11-24T04:17:47.379258Z",
     "iopub.status.busy": "2022-11-24T04:17:47.378804Z",
     "iopub.status.idle": "2022-11-24T04:17:49.726868Z",
     "shell.execute_reply": "2022-11-24T04:17:49.725216Z"
    },
    "papermill": {
     "duration": 2.363829,
     "end_time": "2022-11-24T04:17:49.730303",
     "exception": false,
     "start_time": "2022-11-24T04:17:47.366474",
     "status": "completed"
    },
    "tags": []
   },
   "outputs": [
    {
     "name": "stdout",
     "output_type": "stream",
     "text": [
      "2 0.21524663677130046\n",
      "5 0.2062780269058296\n",
      "10 0.19282511210762332\n",
      "20 0.2062780269058296\n",
      "30 0.19282511210762332\n",
      "50 0.18834080717488788\n",
      "100 0.17937219730941703\n",
      "200 0.18385650224215247\n",
      "250 0.17937219730941703\n",
      "300 0.18385650224215247\n",
      "350 0.18834080717488788\n"
     ]
    }
   ],
   "source": [
    "#model tuning: n_estimators\n",
    "for n in [2,5,10,20,30,50,100,200,250, 300, 350]:\n",
    "    mae = my_mae(n,5,train_X, test_X, train_y, test_y)\n",
    "    print(n, mae)"
   ]
  },
  {
   "cell_type": "code",
   "execution_count": 19,
   "id": "96c203ca",
   "metadata": {
    "execution": {
     "iopub.execute_input": "2022-11-24T04:17:49.753904Z",
     "iopub.status.busy": "2022-11-24T04:17:49.753472Z",
     "iopub.status.idle": "2022-11-24T04:17:51.587028Z",
     "shell.execute_reply": "2022-11-24T04:17:51.585583Z"
    },
    "papermill": {
     "duration": 1.847991,
     "end_time": "2022-11-24T04:17:51.589528",
     "exception": false,
     "start_time": "2022-11-24T04:17:49.741537",
     "status": "completed"
    },
    "tags": []
   },
   "outputs": [
    {
     "name": "stdout",
     "output_type": "stream",
     "text": [
      "1 0.21973094170403587\n",
      "2 0.21973094170403587\n",
      "3 0.18385650224215247\n",
      "4 0.19282511210762332\n",
      "5 0.17937219730941703\n",
      "6 0.17937219730941703\n",
      "7 0.18834080717488788\n",
      "8 0.17040358744394618\n",
      "9 0.18834080717488788\n",
      "10 0.19730941704035873\n"
     ]
    }
   ],
   "source": [
    "#model tuning: max_depth\n",
    "for depth in [1,2,3,4,5,6, 7,8,9,10]:\n",
    "    mae = my_mae(100,depth,train_X, test_X, train_y, test_y)\n",
    "    print(depth, mae)"
   ]
  },
  {
   "cell_type": "code",
   "execution_count": 20,
   "id": "b4bb3f41",
   "metadata": {
    "execution": {
     "iopub.execute_input": "2022-11-24T04:17:51.615069Z",
     "iopub.status.busy": "2022-11-24T04:17:51.613632Z",
     "iopub.status.idle": "2022-11-24T04:17:51.808010Z",
     "shell.execute_reply": "2022-11-24T04:17:51.806745Z"
    },
    "papermill": {
     "duration": 0.209891,
     "end_time": "2022-11-24T04:17:51.811154",
     "exception": false,
     "start_time": "2022-11-24T04:17:51.601263",
     "status": "completed"
    },
    "tags": []
   },
   "outputs": [],
   "source": [
    "model= RandomForestClassifier(n_estimators=100, max_depth=5, random_state=0)\n",
    "model.fit(X, y)\n",
    "predictions = model.predict(X_prediction)"
   ]
  },
  {
   "cell_type": "code",
   "execution_count": 21,
   "id": "7b5acbd2",
   "metadata": {
    "execution": {
     "iopub.execute_input": "2022-11-24T04:17:51.836746Z",
     "iopub.status.busy": "2022-11-24T04:17:51.835334Z",
     "iopub.status.idle": "2022-11-24T04:17:51.848346Z",
     "shell.execute_reply": "2022-11-24T04:17:51.847313Z"
    },
    "papermill": {
     "duration": 0.028197,
     "end_time": "2022-11-24T04:17:51.850839",
     "exception": false,
     "start_time": "2022-11-24T04:17:51.822642",
     "status": "completed"
    },
    "tags": []
   },
   "outputs": [
    {
     "name": "stdout",
     "output_type": "stream",
     "text": [
      "Your submission was succesfully saved!\n"
     ]
    }
   ],
   "source": [
    "output = pd.DataFrame({'PassengerId': prediction_data.PassengerId, 'Survived': predictions})  #stores output in dictionary\n",
    "output.to_csv('submission.csv', index=False)\n",
    "print(\"Your submission was succesfully saved!\")"
   ]
  }
 ],
 "metadata": {
  "kernelspec": {
   "display_name": "Python 3",
   "language": "python",
   "name": "python3"
  },
  "language_info": {
   "codemirror_mode": {
    "name": "ipython",
    "version": 3
   },
   "file_extension": ".py",
   "mimetype": "text/x-python",
   "name": "python",
   "nbconvert_exporter": "python",
   "pygments_lexer": "ipython3",
   "version": "3.7.12"
  },
  "papermill": {
   "default_parameters": {},
   "duration": 24.648051,
   "end_time": "2022-11-24T04:17:52.887701",
   "environment_variables": {},
   "exception": null,
   "input_path": "__notebook__.ipynb",
   "output_path": "__notebook__.ipynb",
   "parameters": {},
   "start_time": "2022-11-24T04:17:28.239650",
   "version": "2.3.4"
  }
 },
 "nbformat": 4,
 "nbformat_minor": 5
}
