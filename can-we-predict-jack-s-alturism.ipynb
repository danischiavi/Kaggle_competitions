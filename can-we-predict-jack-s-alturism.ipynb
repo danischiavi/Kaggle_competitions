{
 "cells": [
  {
   "cell_type": "code",
   "execution_count": 1,
   "id": "861c18c1",
   "metadata": {
    "_cell_guid": "b1076dfc-b9ad-4769-8c92-a6c4dae69d19",
    "_uuid": "8f2839f25d086af736a60e9eeb907d3b93b6e0e5",
    "execution": {
     "iopub.execute_input": "2022-11-22T03:01:25.397814Z",
     "iopub.status.busy": "2022-11-22T03:01:25.397169Z",
     "iopub.status.idle": "2022-11-22T03:01:26.748570Z",
     "shell.execute_reply": "2022-11-22T03:01:26.747209Z"
    },
    "papermill": {
     "duration": 1.364116,
     "end_time": "2022-11-22T03:01:26.751532",
     "exception": false,
     "start_time": "2022-11-22T03:01:25.387416",
     "status": "completed"
    },
    "tags": []
   },
   "outputs": [
    {
     "name": "stdout",
     "output_type": "stream",
     "text": [
      "/kaggle/input/titanic/train.csv\n",
      "/kaggle/input/titanic/test.csv\n",
      "/kaggle/input/titanic/gender_submission.csv\n"
     ]
    }
   ],
   "source": [
    "import numpy as np # linear algebra\n",
    "import pandas as pd # data processing, CSV file I/O (e.g. pd.read_csv)\n",
    "pd.plotting.register_matplotlib_converters()\n",
    "import matplotlib.pyplot as plt\n",
    "%matplotlib inline \n",
    "import seaborn as sns #library for visualization\n",
    "\n",
    "import os\n",
    "for dirname, _, filenames in os.walk('/kaggle/input'):\n",
    "    for filename in filenames:\n",
    "        print(os.path.join(dirname, filename))"
   ]
  },
  {
   "cell_type": "code",
   "execution_count": 2,
   "id": "a1cf5be8",
   "metadata": {
    "execution": {
     "iopub.execute_input": "2022-11-22T03:01:26.765300Z",
     "iopub.status.busy": "2022-11-22T03:01:26.764910Z",
     "iopub.status.idle": "2022-11-22T03:01:26.809615Z",
     "shell.execute_reply": "2022-11-22T03:01:26.808345Z"
    },
    "papermill": {
     "duration": 0.054472,
     "end_time": "2022-11-22T03:01:26.812100",
     "exception": false,
     "start_time": "2022-11-22T03:01:26.757628",
     "status": "completed"
    },
    "tags": []
   },
   "outputs": [
    {
     "data": {
      "text/html": [
       "<div>\n",
       "<style scoped>\n",
       "    .dataframe tbody tr th:only-of-type {\n",
       "        vertical-align: middle;\n",
       "    }\n",
       "\n",
       "    .dataframe tbody tr th {\n",
       "        vertical-align: top;\n",
       "    }\n",
       "\n",
       "    .dataframe thead th {\n",
       "        text-align: right;\n",
       "    }\n",
       "</style>\n",
       "<table border=\"1\" class=\"dataframe\">\n",
       "  <thead>\n",
       "    <tr style=\"text-align: right;\">\n",
       "      <th></th>\n",
       "      <th>PassengerId</th>\n",
       "      <th>Survived</th>\n",
       "      <th>Pclass</th>\n",
       "      <th>Name</th>\n",
       "      <th>Sex</th>\n",
       "      <th>Age</th>\n",
       "      <th>SibSp</th>\n",
       "      <th>Parch</th>\n",
       "      <th>Ticket</th>\n",
       "      <th>Fare</th>\n",
       "      <th>Cabin</th>\n",
       "      <th>Embarked</th>\n",
       "    </tr>\n",
       "  </thead>\n",
       "  <tbody>\n",
       "    <tr>\n",
       "      <th>0</th>\n",
       "      <td>1</td>\n",
       "      <td>0</td>\n",
       "      <td>3</td>\n",
       "      <td>Braund, Mr. Owen Harris</td>\n",
       "      <td>male</td>\n",
       "      <td>22.0</td>\n",
       "      <td>1</td>\n",
       "      <td>0</td>\n",
       "      <td>A/5 21171</td>\n",
       "      <td>7.2500</td>\n",
       "      <td>NaN</td>\n",
       "      <td>S</td>\n",
       "    </tr>\n",
       "    <tr>\n",
       "      <th>1</th>\n",
       "      <td>2</td>\n",
       "      <td>1</td>\n",
       "      <td>1</td>\n",
       "      <td>Cumings, Mrs. John Bradley (Florence Briggs Th...</td>\n",
       "      <td>female</td>\n",
       "      <td>38.0</td>\n",
       "      <td>1</td>\n",
       "      <td>0</td>\n",
       "      <td>PC 17599</td>\n",
       "      <td>71.2833</td>\n",
       "      <td>C85</td>\n",
       "      <td>C</td>\n",
       "    </tr>\n",
       "    <tr>\n",
       "      <th>2</th>\n",
       "      <td>3</td>\n",
       "      <td>1</td>\n",
       "      <td>3</td>\n",
       "      <td>Heikkinen, Miss. Laina</td>\n",
       "      <td>female</td>\n",
       "      <td>26.0</td>\n",
       "      <td>0</td>\n",
       "      <td>0</td>\n",
       "      <td>STON/O2. 3101282</td>\n",
       "      <td>7.9250</td>\n",
       "      <td>NaN</td>\n",
       "      <td>S</td>\n",
       "    </tr>\n",
       "    <tr>\n",
       "      <th>3</th>\n",
       "      <td>4</td>\n",
       "      <td>1</td>\n",
       "      <td>1</td>\n",
       "      <td>Futrelle, Mrs. Jacques Heath (Lily May Peel)</td>\n",
       "      <td>female</td>\n",
       "      <td>35.0</td>\n",
       "      <td>1</td>\n",
       "      <td>0</td>\n",
       "      <td>113803</td>\n",
       "      <td>53.1000</td>\n",
       "      <td>C123</td>\n",
       "      <td>S</td>\n",
       "    </tr>\n",
       "    <tr>\n",
       "      <th>4</th>\n",
       "      <td>5</td>\n",
       "      <td>0</td>\n",
       "      <td>3</td>\n",
       "      <td>Allen, Mr. William Henry</td>\n",
       "      <td>male</td>\n",
       "      <td>35.0</td>\n",
       "      <td>0</td>\n",
       "      <td>0</td>\n",
       "      <td>373450</td>\n",
       "      <td>8.0500</td>\n",
       "      <td>NaN</td>\n",
       "      <td>S</td>\n",
       "    </tr>\n",
       "  </tbody>\n",
       "</table>\n",
       "</div>"
      ],
      "text/plain": [
       "   PassengerId  Survived  Pclass  \\\n",
       "0            1         0       3   \n",
       "1            2         1       1   \n",
       "2            3         1       3   \n",
       "3            4         1       1   \n",
       "4            5         0       3   \n",
       "\n",
       "                                                Name     Sex   Age  SibSp  \\\n",
       "0                            Braund, Mr. Owen Harris    male  22.0      1   \n",
       "1  Cumings, Mrs. John Bradley (Florence Briggs Th...  female  38.0      1   \n",
       "2                             Heikkinen, Miss. Laina  female  26.0      0   \n",
       "3       Futrelle, Mrs. Jacques Heath (Lily May Peel)  female  35.0      1   \n",
       "4                           Allen, Mr. William Henry    male  35.0      0   \n",
       "\n",
       "   Parch            Ticket     Fare Cabin Embarked  \n",
       "0      0         A/5 21171   7.2500   NaN        S  \n",
       "1      0          PC 17599  71.2833   C85        C  \n",
       "2      0  STON/O2. 3101282   7.9250   NaN        S  \n",
       "3      0            113803  53.1000  C123        S  \n",
       "4      0            373450   8.0500   NaN        S  "
      ]
     },
     "execution_count": 2,
     "metadata": {},
     "output_type": "execute_result"
    }
   ],
   "source": [
    "train_data = pd.read_csv(\"/kaggle/input/titanic/train.csv\") #Load training data\n",
    "train_data.head() \n"
   ]
  },
  {
   "cell_type": "code",
   "execution_count": 3,
   "id": "70daf27c",
   "metadata": {
    "execution": {
     "iopub.execute_input": "2022-11-22T03:01:26.826815Z",
     "iopub.status.busy": "2022-11-22T03:01:26.825881Z",
     "iopub.status.idle": "2022-11-22T03:01:26.851269Z",
     "shell.execute_reply": "2022-11-22T03:01:26.849781Z"
    },
    "papermill": {
     "duration": 0.035584,
     "end_time": "2022-11-22T03:01:26.854068",
     "exception": false,
     "start_time": "2022-11-22T03:01:26.818484",
     "status": "completed"
    },
    "tags": []
   },
   "outputs": [
    {
     "data": {
      "text/html": [
       "<div>\n",
       "<style scoped>\n",
       "    .dataframe tbody tr th:only-of-type {\n",
       "        vertical-align: middle;\n",
       "    }\n",
       "\n",
       "    .dataframe tbody tr th {\n",
       "        vertical-align: top;\n",
       "    }\n",
       "\n",
       "    .dataframe thead th {\n",
       "        text-align: right;\n",
       "    }\n",
       "</style>\n",
       "<table border=\"1\" class=\"dataframe\">\n",
       "  <thead>\n",
       "    <tr style=\"text-align: right;\">\n",
       "      <th></th>\n",
       "      <th>PassengerId</th>\n",
       "      <th>Pclass</th>\n",
       "      <th>Name</th>\n",
       "      <th>Sex</th>\n",
       "      <th>Age</th>\n",
       "      <th>SibSp</th>\n",
       "      <th>Parch</th>\n",
       "      <th>Ticket</th>\n",
       "      <th>Fare</th>\n",
       "      <th>Cabin</th>\n",
       "      <th>Embarked</th>\n",
       "    </tr>\n",
       "  </thead>\n",
       "  <tbody>\n",
       "    <tr>\n",
       "      <th>0</th>\n",
       "      <td>892</td>\n",
       "      <td>3</td>\n",
       "      <td>Kelly, Mr. James</td>\n",
       "      <td>male</td>\n",
       "      <td>34.5</td>\n",
       "      <td>0</td>\n",
       "      <td>0</td>\n",
       "      <td>330911</td>\n",
       "      <td>7.8292</td>\n",
       "      <td>NaN</td>\n",
       "      <td>Q</td>\n",
       "    </tr>\n",
       "    <tr>\n",
       "      <th>1</th>\n",
       "      <td>893</td>\n",
       "      <td>3</td>\n",
       "      <td>Wilkes, Mrs. James (Ellen Needs)</td>\n",
       "      <td>female</td>\n",
       "      <td>47.0</td>\n",
       "      <td>1</td>\n",
       "      <td>0</td>\n",
       "      <td>363272</td>\n",
       "      <td>7.0000</td>\n",
       "      <td>NaN</td>\n",
       "      <td>S</td>\n",
       "    </tr>\n",
       "    <tr>\n",
       "      <th>2</th>\n",
       "      <td>894</td>\n",
       "      <td>2</td>\n",
       "      <td>Myles, Mr. Thomas Francis</td>\n",
       "      <td>male</td>\n",
       "      <td>62.0</td>\n",
       "      <td>0</td>\n",
       "      <td>0</td>\n",
       "      <td>240276</td>\n",
       "      <td>9.6875</td>\n",
       "      <td>NaN</td>\n",
       "      <td>Q</td>\n",
       "    </tr>\n",
       "    <tr>\n",
       "      <th>3</th>\n",
       "      <td>895</td>\n",
       "      <td>3</td>\n",
       "      <td>Wirz, Mr. Albert</td>\n",
       "      <td>male</td>\n",
       "      <td>27.0</td>\n",
       "      <td>0</td>\n",
       "      <td>0</td>\n",
       "      <td>315154</td>\n",
       "      <td>8.6625</td>\n",
       "      <td>NaN</td>\n",
       "      <td>S</td>\n",
       "    </tr>\n",
       "    <tr>\n",
       "      <th>4</th>\n",
       "      <td>896</td>\n",
       "      <td>3</td>\n",
       "      <td>Hirvonen, Mrs. Alexander (Helga E Lindqvist)</td>\n",
       "      <td>female</td>\n",
       "      <td>22.0</td>\n",
       "      <td>1</td>\n",
       "      <td>1</td>\n",
       "      <td>3101298</td>\n",
       "      <td>12.2875</td>\n",
       "      <td>NaN</td>\n",
       "      <td>S</td>\n",
       "    </tr>\n",
       "  </tbody>\n",
       "</table>\n",
       "</div>"
      ],
      "text/plain": [
       "   PassengerId  Pclass                                          Name     Sex  \\\n",
       "0          892       3                              Kelly, Mr. James    male   \n",
       "1          893       3              Wilkes, Mrs. James (Ellen Needs)  female   \n",
       "2          894       2                     Myles, Mr. Thomas Francis    male   \n",
       "3          895       3                              Wirz, Mr. Albert    male   \n",
       "4          896       3  Hirvonen, Mrs. Alexander (Helga E Lindqvist)  female   \n",
       "\n",
       "    Age  SibSp  Parch   Ticket     Fare Cabin Embarked  \n",
       "0  34.5      0      0   330911   7.8292   NaN        Q  \n",
       "1  47.0      1      0   363272   7.0000   NaN        S  \n",
       "2  62.0      0      0   240276   9.6875   NaN        Q  \n",
       "3  27.0      0      0   315154   8.6625   NaN        S  \n",
       "4  22.0      1      1  3101298  12.2875   NaN        S  "
      ]
     },
     "execution_count": 3,
     "metadata": {},
     "output_type": "execute_result"
    }
   ],
   "source": [
    "test_data = pd.read_csv(\"/kaggle/input/titanic/test.csv\")  #Load test data -> Survived column is missing because is what I have to predict\n",
    "test_data.head()"
   ]
  },
  {
   "cell_type": "code",
   "execution_count": 4,
   "id": "fef34ce4",
   "metadata": {
    "execution": {
     "iopub.execute_input": "2022-11-22T03:01:26.870239Z",
     "iopub.status.busy": "2022-11-22T03:01:26.869675Z",
     "iopub.status.idle": "2022-11-22T03:01:26.916134Z",
     "shell.execute_reply": "2022-11-22T03:01:26.914695Z"
    },
    "papermill": {
     "duration": 0.058265,
     "end_time": "2022-11-22T03:01:26.918913",
     "exception": false,
     "start_time": "2022-11-22T03:01:26.860648",
     "status": "completed"
    },
    "tags": []
   },
   "outputs": [
    {
     "data": {
      "text/html": [
       "<div>\n",
       "<style scoped>\n",
       "    .dataframe tbody tr th:only-of-type {\n",
       "        vertical-align: middle;\n",
       "    }\n",
       "\n",
       "    .dataframe tbody tr th {\n",
       "        vertical-align: top;\n",
       "    }\n",
       "\n",
       "    .dataframe thead th {\n",
       "        text-align: right;\n",
       "    }\n",
       "</style>\n",
       "<table border=\"1\" class=\"dataframe\">\n",
       "  <thead>\n",
       "    <tr style=\"text-align: right;\">\n",
       "      <th></th>\n",
       "      <th>PassengerId</th>\n",
       "      <th>Survived</th>\n",
       "      <th>Pclass</th>\n",
       "      <th>Age</th>\n",
       "      <th>SibSp</th>\n",
       "      <th>Parch</th>\n",
       "      <th>Fare</th>\n",
       "    </tr>\n",
       "  </thead>\n",
       "  <tbody>\n",
       "    <tr>\n",
       "      <th>count</th>\n",
       "      <td>891.000000</td>\n",
       "      <td>891.000000</td>\n",
       "      <td>891.000000</td>\n",
       "      <td>714.000000</td>\n",
       "      <td>891.000000</td>\n",
       "      <td>891.000000</td>\n",
       "      <td>891.000000</td>\n",
       "    </tr>\n",
       "    <tr>\n",
       "      <th>mean</th>\n",
       "      <td>446.000000</td>\n",
       "      <td>0.383838</td>\n",
       "      <td>2.308642</td>\n",
       "      <td>29.699118</td>\n",
       "      <td>0.523008</td>\n",
       "      <td>0.381594</td>\n",
       "      <td>32.204208</td>\n",
       "    </tr>\n",
       "    <tr>\n",
       "      <th>std</th>\n",
       "      <td>257.353842</td>\n",
       "      <td>0.486592</td>\n",
       "      <td>0.836071</td>\n",
       "      <td>14.526497</td>\n",
       "      <td>1.102743</td>\n",
       "      <td>0.806057</td>\n",
       "      <td>49.693429</td>\n",
       "    </tr>\n",
       "    <tr>\n",
       "      <th>min</th>\n",
       "      <td>1.000000</td>\n",
       "      <td>0.000000</td>\n",
       "      <td>1.000000</td>\n",
       "      <td>0.420000</td>\n",
       "      <td>0.000000</td>\n",
       "      <td>0.000000</td>\n",
       "      <td>0.000000</td>\n",
       "    </tr>\n",
       "    <tr>\n",
       "      <th>25%</th>\n",
       "      <td>223.500000</td>\n",
       "      <td>0.000000</td>\n",
       "      <td>2.000000</td>\n",
       "      <td>20.125000</td>\n",
       "      <td>0.000000</td>\n",
       "      <td>0.000000</td>\n",
       "      <td>7.910400</td>\n",
       "    </tr>\n",
       "    <tr>\n",
       "      <th>50%</th>\n",
       "      <td>446.000000</td>\n",
       "      <td>0.000000</td>\n",
       "      <td>3.000000</td>\n",
       "      <td>28.000000</td>\n",
       "      <td>0.000000</td>\n",
       "      <td>0.000000</td>\n",
       "      <td>14.454200</td>\n",
       "    </tr>\n",
       "    <tr>\n",
       "      <th>75%</th>\n",
       "      <td>668.500000</td>\n",
       "      <td>1.000000</td>\n",
       "      <td>3.000000</td>\n",
       "      <td>38.000000</td>\n",
       "      <td>1.000000</td>\n",
       "      <td>0.000000</td>\n",
       "      <td>31.000000</td>\n",
       "    </tr>\n",
       "    <tr>\n",
       "      <th>max</th>\n",
       "      <td>891.000000</td>\n",
       "      <td>1.000000</td>\n",
       "      <td>3.000000</td>\n",
       "      <td>80.000000</td>\n",
       "      <td>8.000000</td>\n",
       "      <td>6.000000</td>\n",
       "      <td>512.329200</td>\n",
       "    </tr>\n",
       "  </tbody>\n",
       "</table>\n",
       "</div>"
      ],
      "text/plain": [
       "       PassengerId    Survived      Pclass         Age       SibSp  \\\n",
       "count   891.000000  891.000000  891.000000  714.000000  891.000000   \n",
       "mean    446.000000    0.383838    2.308642   29.699118    0.523008   \n",
       "std     257.353842    0.486592    0.836071   14.526497    1.102743   \n",
       "min       1.000000    0.000000    1.000000    0.420000    0.000000   \n",
       "25%     223.500000    0.000000    2.000000   20.125000    0.000000   \n",
       "50%     446.000000    0.000000    3.000000   28.000000    0.000000   \n",
       "75%     668.500000    1.000000    3.000000   38.000000    1.000000   \n",
       "max     891.000000    1.000000    3.000000   80.000000    8.000000   \n",
       "\n",
       "            Parch        Fare  \n",
       "count  891.000000  891.000000  \n",
       "mean     0.381594   32.204208  \n",
       "std      0.806057   49.693429  \n",
       "min      0.000000    0.000000  \n",
       "25%      0.000000    7.910400  \n",
       "50%      0.000000   14.454200  \n",
       "75%      0.000000   31.000000  \n",
       "max      6.000000  512.329200  "
      ]
     },
     "execution_count": 4,
     "metadata": {},
     "output_type": "execute_result"
    }
   ],
   "source": [
    "train_data.describe()"
   ]
  },
  {
   "cell_type": "code",
   "execution_count": 5,
   "id": "b4e29861",
   "metadata": {
    "execution": {
     "iopub.execute_input": "2022-11-22T03:01:26.934365Z",
     "iopub.status.busy": "2022-11-22T03:01:26.933934Z",
     "iopub.status.idle": "2022-11-22T03:01:27.279362Z",
     "shell.execute_reply": "2022-11-22T03:01:27.278171Z"
    },
    "papermill": {
     "duration": 0.356581,
     "end_time": "2022-11-22T03:01:27.282202",
     "exception": false,
     "start_time": "2022-11-22T03:01:26.925621",
     "status": "completed"
    },
    "tags": []
   },
   "outputs": [
    {
     "data": {
      "text/plain": [
       "<AxesSubplot:xlabel='Pclass', ylabel='Survived'>"
      ]
     },
     "execution_count": 5,
     "metadata": {},
     "output_type": "execute_result"
    },
    {
     "data": {
      "image/png": "[encoded data removed]",
      "text/plain": [
       "<Figure size 432x288 with 1 Axes>"
      ]
     },
     "metadata": {
      "needs_background": "light"
     },
     "output_type": "display_data"
    }
   ],
   "source": [
    "#Data analisis with visualization\n",
    "\n",
    "sns.barplot(x=train_data['Pclass'], y=train_data['Survived'])"
   ]
  },
  {
   "cell_type": "markdown",
   "id": "bccac73a",
   "metadata": {
    "papermill": {
     "duration": 0.006398,
     "end_time": "2022-11-22T03:01:27.295539",
     "exception": false,
     "start_time": "2022-11-22T03:01:27.289141",
     "status": "completed"
    },
    "tags": []
   },
   "source": [
    "Graph shows marked relationship between Pclass and survival rate: Higher class, more chances to survive --> Good feature for model"
   ]
  },
  {
   "cell_type": "code",
   "execution_count": 6,
   "id": "585c3b58",
   "metadata": {
    "execution": {
     "iopub.execute_input": "2022-11-22T03:01:27.311202Z",
     "iopub.status.busy": "2022-11-22T03:01:27.310737Z",
     "iopub.status.idle": "2022-11-22T03:01:27.576939Z",
     "shell.execute_reply": "2022-11-22T03:01:27.575982Z"
    },
    "papermill": {
     "duration": 0.277171,
     "end_time": "2022-11-22T03:01:27.579527",
     "exception": false,
     "start_time": "2022-11-22T03:01:27.302356",
     "status": "completed"
    },
    "tags": []
   },
   "outputs": [
    {
     "data": {
      "text/plain": [
       "<AxesSubplot:xlabel='Sex', ylabel='Survived'>"
      ]
     },
     "execution_count": 6,
     "metadata": {},
     "output_type": "execute_result"
    },
    {
     "data": {
      "image/png": "[encoded data removed]",
      "text/plain": [
       "<Figure size 432x288 with 1 Axes>"
      ]
     },
     "metadata": {
      "needs_background": "light"
     },
     "output_type": "display_data"
    }
   ],
   "source": [
    "sns.barplot(x=train_data['Sex'], y=train_data['Survived'])"
   ]
  },
  {
   "cell_type": "markdown",
   "id": "5a6e8d4e",
   "metadata": {
    "papermill": {
     "duration": 0.008411,
     "end_time": "2022-11-22T03:01:27.595131",
     "exception": false,
     "start_time": "2022-11-22T03:01:27.586720",
     "status": "completed"
    },
    "tags": []
   },
   "source": [
    "Graph shows marked relationship between Pclass and survival rate: females have more chances to survive --> Good feature for model"
   ]
  },
  {
   "cell_type": "code",
   "execution_count": 7,
   "id": "023aaf9f",
   "metadata": {
    "execution": {
     "iopub.execute_input": "2022-11-22T03:01:27.611602Z",
     "iopub.status.busy": "2022-11-22T03:01:27.610749Z",
     "iopub.status.idle": "2022-11-22T03:01:27.898960Z",
     "shell.execute_reply": "2022-11-22T03:01:27.897644Z"
    },
    "papermill": {
     "duration": 0.299677,
     "end_time": "2022-11-22T03:01:27.901820",
     "exception": false,
     "start_time": "2022-11-22T03:01:27.602143",
     "status": "completed"
    },
    "tags": []
   },
   "outputs": [
    {
     "data": {
      "text/plain": [
       "<AxesSubplot:xlabel='Age', ylabel='Count'>"
      ]
     },
     "execution_count": 7,
     "metadata": {},
     "output_type": "execute_result"
    },
    {
     "data": {
      "image/png": "[encoded data removed]",
      "text/plain": [
       "<Figure size 432x288 with 1 Axes>"
      ]
     },
     "metadata": {
      "needs_background": "light"
     },
     "output_type": "display_data"
    }
   ],
   "source": [
    "sns.histplot(data=train_data, x='Age')"
   ]
  },
  {
   "cell_type": "code",
   "execution_count": 8,
   "id": "ee0178dd",
   "metadata": {
    "execution": {
     "iopub.execute_input": "2022-11-22T03:01:27.926476Z",
     "iopub.status.busy": "2022-11-22T03:01:27.925636Z",
     "iopub.status.idle": "2022-11-22T03:01:28.326271Z",
     "shell.execute_reply": "2022-11-22T03:01:28.325149Z"
    },
    "papermill": {
     "duration": 0.418095,
     "end_time": "2022-11-22T03:01:28.329010",
     "exception": false,
     "start_time": "2022-11-22T03:01:27.910915",
     "status": "completed"
    },
    "tags": []
   },
   "outputs": [
    {
     "data": {
      "text/plain": [
       "<AxesSubplot:xlabel='Age', ylabel='Count'>"
      ]
     },
     "execution_count": 8,
     "metadata": {},
     "output_type": "execute_result"
    },
    {
     "data": {
      "image/png": "[encoded data removed]",
      "text/plain": [
       "<Figure size 432x288 with 1 Axes>"
      ]
     },
     "metadata": {
      "needs_background": "light"
     },
     "output_type": "display_data"
    }
   ],
   "source": [
    "sns.histplot(data=train_data, x='Age', hue='Survived')"
   ]
  },
  {
   "cell_type": "markdown",
   "id": "ef4b077f",
   "metadata": {
    "papermill": {
     "duration": 0.007637,
     "end_time": "2022-11-22T03:01:28.344841",
     "exception": false,
     "start_time": "2022-11-22T03:01:28.337204",
     "status": "completed"
    },
    "tags": []
   },
   "source": [
    "Graph shows distribution of age for survived and not-survived group. Survived group has more counts for children than not-survived. -->Good feature for model"
   ]
  },
  {
   "cell_type": "code",
   "execution_count": 9,
   "id": "93c943b7",
   "metadata": {
    "execution": {
     "iopub.execute_input": "2022-11-22T03:01:28.362632Z",
     "iopub.status.busy": "2022-11-22T03:01:28.362161Z",
     "iopub.status.idle": "2022-11-22T03:01:28.781146Z",
     "shell.execute_reply": "2022-11-22T03:01:28.779722Z"
    },
    "papermill": {
     "duration": 0.430973,
     "end_time": "2022-11-22T03:01:28.783829",
     "exception": false,
     "start_time": "2022-11-22T03:01:28.352856",
     "status": "completed"
    },
    "tags": []
   },
   "outputs": [
    {
     "data": {
      "text/plain": [
       "<AxesSubplot:xlabel='SibSp', ylabel='Survived'>"
      ]
     },
     "execution_count": 9,
     "metadata": {},
     "output_type": "execute_result"
    },
    {
     "data": {
      "image/png": "[encoded data removed]",
      "text/plain": [
       "<Figure size 432x288 with 1 Axes>"
      ]
     },
     "metadata": {
      "needs_background": "light"
     },
     "output_type": "display_data"
    }
   ],
   "source": [
    "sns.barplot(x=train_data['SibSp'], y=train_data['Survived'])\n"
   ]
  },
  {
   "cell_type": "markdown",
   "id": "45a49487",
   "metadata": {
    "papermill": {
     "duration": 0.007886,
     "end_time": "2022-11-22T03:01:28.800035",
     "exception": false,
     "start_time": "2022-11-22T03:01:28.792149",
     "status": "completed"
    },
    "tags": []
   },
   "source": [
    "Graph shows relationship between survival rate and number of siblings or spouse: more likely to survive if 1, decreasing with number -->Good feature for model "
   ]
  },
  {
   "cell_type": "code",
   "execution_count": 10,
   "id": "c8ea81ef",
   "metadata": {
    "execution": {
     "iopub.execute_input": "2022-11-22T03:01:28.818431Z",
     "iopub.status.busy": "2022-11-22T03:01:28.818026Z",
     "iopub.status.idle": "2022-11-22T03:01:29.201019Z",
     "shell.execute_reply": "2022-11-22T03:01:29.199680Z"
    },
    "papermill": {
     "duration": 0.395118,
     "end_time": "2022-11-22T03:01:29.203578",
     "exception": false,
     "start_time": "2022-11-22T03:01:28.808460",
     "status": "completed"
    },
    "tags": []
   },
   "outputs": [
    {
     "data": {
      "text/plain": [
       "<AxesSubplot:xlabel='Parch', ylabel='Survived'>"
      ]
     },
     "execution_count": 10,
     "metadata": {},
     "output_type": "execute_result"
    },
    {
     "data": {
      "image/png": "[encoded data removed]",
      "text/plain": [
       "<Figure size 432x288 with 1 Axes>"
      ]
     },
     "metadata": {
      "needs_background": "light"
     },
     "output_type": "display_data"
    }
   ],
   "source": [
    "sns.barplot(x=train_data['Parch'], y=train_data['Survived'])"
   ]
  },
  {
   "cell_type": "markdown",
   "id": "5ab77d9f",
   "metadata": {
    "papermill": {
     "duration": 0.008232,
     "end_time": "2022-11-22T03:01:29.220377",
     "exception": false,
     "start_time": "2022-11-22T03:01:29.212145",
     "status": "completed"
    },
    "tags": []
   },
   "source": [
    "Graph shows relationship between suvival rate and number of parents/children. It does not have a strong relationship --> Feature not good for model. "
   ]
  },
  {
   "cell_type": "code",
   "execution_count": 11,
   "id": "1b2a0674",
   "metadata": {
    "execution": {
     "iopub.execute_input": "2022-11-22T03:01:29.239818Z",
     "iopub.status.busy": "2022-11-22T03:01:29.239382Z",
     "iopub.status.idle": "2022-11-22T03:01:35.015890Z",
     "shell.execute_reply": "2022-11-22T03:01:35.014968Z"
    },
    "papermill": {
     "duration": 5.789101,
     "end_time": "2022-11-22T03:01:35.018518",
     "exception": false,
     "start_time": "2022-11-22T03:01:29.229417",
     "status": "completed"
    },
    "tags": []
   },
   "outputs": [
    {
     "name": "stderr",
     "output_type": "stream",
     "text": [
      "/opt/conda/lib/python3.7/site-packages/seaborn/categorical.py:1296: UserWarning: 72.3% of the points cannot be placed; you may want to decrease the size of the markers or use stripplot.\n",
      "  warnings.warn(msg, UserWarning)\n",
      "/opt/conda/lib/python3.7/site-packages/seaborn/categorical.py:1296: UserWarning: 46.5% of the points cannot be placed; you may want to decrease the size of the markers or use stripplot.\n",
      "  warnings.warn(msg, UserWarning)\n"
     ]
    },
    {
     "data": {
      "text/plain": [
       "<AxesSubplot:xlabel='Survived', ylabel='Fare'>"
      ]
     },
     "execution_count": 11,
     "metadata": {},
     "output_type": "execute_result"
    },
    {
     "data": {
      "image/png": "[encoded data removed]",
      "text/plain": [
       "<Figure size 432x288 with 1 Axes>"
      ]
     },
     "metadata": {
      "needs_background": "light"
     },
     "output_type": "display_data"
    }
   ],
   "source": [
    "sns.swarmplot(x=train_data['Survived'], y=train_data['Fare'])"
   ]
  },
  {
   "cell_type": "markdown",
   "id": "e87fcf5e",
   "metadata": {
    "papermill": {
     "duration": 0.009234,
     "end_time": "2022-11-22T03:01:35.037515",
     "exception": false,
     "start_time": "2022-11-22T03:01:35.028281",
     "status": "completed"
    },
    "tags": []
   },
   "source": [
    "There isn't evident relationship between fare and survived --> Feature not good for model "
   ]
  },
  {
   "cell_type": "markdown",
   "id": "5b0d297a",
   "metadata": {
    "papermill": {
     "duration": 0.009049,
     "end_time": "2022-11-22T03:01:35.055990",
     "exception": false,
     "start_time": "2022-11-22T03:01:35.046941",
     "status": "completed"
    },
    "tags": []
   },
   "source": []
  },
  {
   "cell_type": "code",
   "execution_count": 12,
   "id": "5c6d7b9d",
   "metadata": {
    "execution": {
     "iopub.execute_input": "2022-11-22T03:01:35.077180Z",
     "iopub.status.busy": "2022-11-22T03:01:35.076447Z",
     "iopub.status.idle": "2022-11-22T03:01:35.357069Z",
     "shell.execute_reply": "2022-11-22T03:01:35.355975Z"
    },
    "papermill": {
     "duration": 0.294211,
     "end_time": "2022-11-22T03:01:35.359614",
     "exception": false,
     "start_time": "2022-11-22T03:01:35.065403",
     "status": "completed"
    },
    "tags": []
   },
   "outputs": [
    {
     "data": {
      "text/plain": [
       "<AxesSubplot:xlabel='Embarked', ylabel='Survived'>"
      ]
     },
     "execution_count": 12,
     "metadata": {},
     "output_type": "execute_result"
    },
    {
     "data": {
      "image/png": "[encoded data removed]",
      "text/plain": [
       "<Figure size 432x288 with 1 Axes>"
      ]
     },
     "metadata": {
      "needs_background": "light"
     },
     "output_type": "display_data"
    }
   ],
   "source": [
    "sns.barplot(x=train_data['Embarked'], y=train_data['Survived'])"
   ]
  },
  {
   "cell_type": "markdown",
   "id": "a70f30c0",
   "metadata": {
    "papermill": {
     "duration": 0.00955,
     "end_time": "2022-11-22T03:01:35.379158",
     "exception": false,
     "start_time": "2022-11-22T03:01:35.369608",
     "status": "completed"
    },
    "tags": []
   },
   "source": [
    "Relationship between survival and port of embarcation is similar between the 3 of them --> Feature not good for model."
   ]
  },
  {
   "cell_type": "code",
   "execution_count": 13,
   "id": "70f404ac",
   "metadata": {
    "execution": {
     "iopub.execute_input": "2022-11-22T03:01:35.401293Z",
     "iopub.status.busy": "2022-11-22T03:01:35.400493Z",
     "iopub.status.idle": "2022-11-22T03:01:35.913509Z",
     "shell.execute_reply": "2022-11-22T03:01:35.912428Z"
    },
    "papermill": {
     "duration": 0.527632,
     "end_time": "2022-11-22T03:01:35.916406",
     "exception": false,
     "start_time": "2022-11-22T03:01:35.388774",
     "status": "completed"
    },
    "tags": []
   },
   "outputs": [],
   "source": [
    "from sklearn.ensemble import RandomForestClassifier  #sklearn.ensemble is a module which contains the class RandomForestClassifier is\n",
    "from sklearn.impute import SimpleImputer\n",
    "\n",
    "y = train_data[\"Survived\"]\n",
    "\n",
    "features = [\"Pclass\", \"Sex\", \"Age\", \"SibSp\"]\n",
    "X_missing_values = pd.get_dummies(train_data[features])  #converts categorical variable into dummy: Ex for Sex: 2 columns -> Sex_male \\ Sex_female using 1 or 0 to fill them\n",
    "X_test_missing_values = pd.get_dummies(test_data[features])\n"
   ]
  },
  {
   "cell_type": "code",
   "execution_count": 14,
   "id": "82c3adb7",
   "metadata": {
    "execution": {
     "iopub.execute_input": "2022-11-22T03:01:35.947130Z",
     "iopub.status.busy": "2022-11-22T03:01:35.945868Z",
     "iopub.status.idle": "2022-11-22T03:01:35.964831Z",
     "shell.execute_reply": "2022-11-22T03:01:35.963612Z"
    },
    "papermill": {
     "duration": 0.038247,
     "end_time": "2022-11-22T03:01:35.968169",
     "exception": false,
     "start_time": "2022-11-22T03:01:35.929922",
     "status": "completed"
    },
    "tags": []
   },
   "outputs": [],
   "source": [
    "my_imputer = SimpleImputer(strategy = 'median')   #Age has missing values --> Try SimpleImputer(). Error if one of the variables are categorical -> first get_dummy and then missing values.\n",
    "X = pd.DataFrame(my_imputer.fit_transform(X_missing_values))\n",
    "X_test = pd.DataFrame(my_imputer.transform(X_test_missing_values))\n",
    "\n",
    "X.columns = X_missing_values.columns   #Imputation removes columns' names; put them back\n",
    "X_test.columns = X_test_missing_values.columns"
   ]
  },
  {
   "cell_type": "code",
   "execution_count": 15,
   "id": "d4d4ba44",
   "metadata": {
    "execution": {
     "iopub.execute_input": "2022-11-22T03:01:35.991175Z",
     "iopub.status.busy": "2022-11-22T03:01:35.990324Z",
     "iopub.status.idle": "2022-11-22T03:01:36.202780Z",
     "shell.execute_reply": "2022-11-22T03:01:36.201273Z"
    },
    "papermill": {
     "duration": 0.228076,
     "end_time": "2022-11-22T03:01:36.206169",
     "exception": false,
     "start_time": "2022-11-22T03:01:35.978093",
     "status": "completed"
    },
    "tags": []
   },
   "outputs": [],
   "source": [
    "model = RandomForestClassifier(n_estimators=100, max_depth=5, random_state=1)\n",
    "model.fit(X, y)\n",
    "predictions = model.predict(X_test)\n"
   ]
  },
  {
   "cell_type": "code",
   "execution_count": 16,
   "id": "521c4236",
   "metadata": {
    "execution": {
     "iopub.execute_input": "2022-11-22T03:01:36.230337Z",
     "iopub.status.busy": "2022-11-22T03:01:36.229367Z",
     "iopub.status.idle": "2022-11-22T03:01:36.244365Z",
     "shell.execute_reply": "2022-11-22T03:01:36.242846Z"
    },
    "papermill": {
     "duration": 0.029296,
     "end_time": "2022-11-22T03:01:36.247234",
     "exception": false,
     "start_time": "2022-11-22T03:01:36.217938",
     "status": "completed"
    },
    "tags": []
   },
   "outputs": [
    {
     "name": "stdout",
     "output_type": "stream",
     "text": [
      "Your submission was succesfully saved!\n"
     ]
    }
   ],
   "source": [
    "output = pd.DataFrame({'PassengerId': test_data.PassengerId, 'Survived': predictions})  #stores output in dictionary\n",
    "output.to_csv('submission.csv', index=False)\n",
    "print(\"Your submission was succesfully saved!\")"
   ]
  }
 ],
 "metadata": {
  "kernelspec": {
   "display_name": "Python 3",
   "language": "python",
   "name": "python3"
  },
  "language_info": {
   "codemirror_mode": {
    "name": "ipython",
    "version": 3
   },
   "file_extension": ".py",
   "mimetype": "text/x-python",
   "name": "python",
   "nbconvert_exporter": "python",
   "pygments_lexer": "ipython3",
   "version": "3.7.12"
  },
  "papermill": {
   "default_parameters": {},
   "duration": 21.422897,
   "end_time": "2022-11-22T03:01:37.081889",
   "environment_variables": {},
   "exception": null,
   "input_path": "__notebook__.ipynb",
   "output_path": "__notebook__.ipynb",
   "parameters": {},
   "start_time": "2022-11-22T03:01:15.658992",
   "version": "2.3.4"
  }
 },
 "nbformat": 4,
 "nbformat_minor": 5
}
